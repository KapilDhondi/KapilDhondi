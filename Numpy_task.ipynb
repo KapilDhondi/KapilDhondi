{
  "nbformat": 4,
  "nbformat_minor": 0,
  "metadata": {
    "colab": {
      "name": "Numpy_task.ipynb",
      "provenance": [],
      "collapsed_sections": [],
      "authorship_tag": "ABX9TyMzj4Ng9vnWzFaj9mh5MeXW",
      "include_colab_link": true
    },
    "kernelspec": {
      "name": "python3",
      "display_name": "Python 3"
    },
    "language_info": {
      "name": "python"
    }
  },
  "cells": [
    {
      "cell_type": "markdown",
      "metadata": {
        "id": "view-in-github",
        "colab_type": "text"
      },
      "source": [
        "<a href=\"https://colab.research.google.com/github/KapilDhondi/KapilDhondi/blob/main/Numpy_task.ipynb\" target=\"_parent\"><img src=\"https://colab.research.google.com/assets/colab-badge.svg\" alt=\"Open In Colab\"/></a>"
      ]
    },
    {
      "cell_type": "code",
      "execution_count": null,
      "metadata": {
        "id": "a4KV-Bd_jvLC"
      },
      "outputs": [],
      "source": [
        "#1. Import the numpy package under the name np\n",
        "import numpy as np\n"
      ]
    },
    {
      "cell_type": "code",
      "source": [
        "#2. Print the numpy version and the configuration\n",
        "np.__version__,np.show_config"
      ],
      "metadata": {
        "colab": {
          "base_uri": "https://localhost:8080/"
        },
        "id": "VzRZ0L4X3R14",
        "outputId": "7b2f93ff-3ffd-4b62-aed2-414066cabc86"
      },
      "execution_count": null,
      "outputs": [
        {
          "output_type": "execute_result",
          "data": {
            "text/plain": [
              "('1.21.6', <function numpy.__config__.show>)"
            ]
          },
          "metadata": {},
          "execution_count": 2
        }
      ]
    },
    {
      "cell_type": "code",
      "source": [
        "#3. Create a null vector of size 10\n",
        "arr1 = np.zeros(10)\n",
        "arr1"
      ],
      "metadata": {
        "colab": {
          "base_uri": "https://localhost:8080/"
        },
        "id": "LLSi63lF3hbv",
        "outputId": "50e0f26a-5b74-459d-f0be-b3767e11037a"
      },
      "execution_count": null,
      "outputs": [
        {
          "output_type": "execute_result",
          "data": {
            "text/plain": [
              "array([0., 0., 0., 0., 0., 0., 0., 0., 0., 0.])"
            ]
          },
          "metadata": {},
          "execution_count": 3
        }
      ]
    },
    {
      "cell_type": "code",
      "source": [
        "#4. How to find the memory size of any array \n",
        "arr1.size,arr1.itemsize"
      ],
      "metadata": {
        "colab": {
          "base_uri": "https://localhost:8080/"
        },
        "id": "mA3CMung34NZ",
        "outputId": "4ee6b50c-6069-4e42-c6be-cd8e91df88e1"
      },
      "execution_count": null,
      "outputs": [
        {
          "output_type": "execute_result",
          "data": {
            "text/plain": [
              "(10, 8)"
            ]
          },
          "metadata": {},
          "execution_count": 4
        }
      ]
    },
    {
      "cell_type": "code",
      "source": [
        "#5. How to get the documentation of the numpy add function from the command line?\n",
        "np.info(arr1)"
      ],
      "metadata": {
        "colab": {
          "base_uri": "https://localhost:8080/"
        },
        "id": "ZwRoRE_W4VXk",
        "outputId": "50c740e2-eaa5-4cb8-e872-edf43593bb55"
      },
      "execution_count": null,
      "outputs": [
        {
          "output_type": "stream",
          "name": "stdout",
          "text": [
            "class:  ndarray\n",
            "shape:  (10,)\n",
            "strides:  (8,)\n",
            "itemsize:  8\n",
            "aligned:  True\n",
            "contiguous:  True\n",
            "fortran:  True\n",
            "data pointer: 0x1dfca30\n",
            "byteorder:  little\n",
            "byteswap:  False\n",
            "type: float64\n"
          ]
        }
      ]
    },
    {
      "cell_type": "code",
      "source": [
        "#6. Create a null vector of size 10 but the fifth value which is 1\n",
        "arr2 = np.zeros(10)\n",
        "arr2[4] = 1\n",
        "arr2"
      ],
      "metadata": {
        "colab": {
          "base_uri": "https://localhost:8080/"
        },
        "id": "7KYzWBRa4n9j",
        "outputId": "97d63502-a4cb-4caa-bc67-482d0edb4370"
      },
      "execution_count": null,
      "outputs": [
        {
          "output_type": "execute_result",
          "data": {
            "text/plain": [
              "array([0., 0., 0., 0., 1., 0., 0., 0., 0., 0.])"
            ]
          },
          "metadata": {},
          "execution_count": 6
        }
      ]
    },
    {
      "cell_type": "code",
      "source": [
        "#7. Create a vector with values ranging from 10 to 49\n",
        "arr3 = np.arange(10,50)\n",
        "arr3"
      ],
      "metadata": {
        "colab": {
          "base_uri": "https://localhost:8080/"
        },
        "id": "h53Sfjtc6FsT",
        "outputId": "02b89cfd-00c8-4809-90f0-29db6016115b"
      },
      "execution_count": null,
      "outputs": [
        {
          "output_type": "execute_result",
          "data": {
            "text/plain": [
              "array([10, 11, 12, 13, 14, 15, 16, 17, 18, 19, 20, 21, 22, 23, 24, 25, 26,\n",
              "       27, 28, 29, 30, 31, 32, 33, 34, 35, 36, 37, 38, 39, 40, 41, 42, 43,\n",
              "       44, 45, 46, 47, 48, 49])"
            ]
          },
          "metadata": {},
          "execution_count": 7
        }
      ]
    },
    {
      "cell_type": "code",
      "source": [
        "#8. Reverse a vector (first element becomes last)\n",
        "arr4 = np.arange(1,10)\n",
        "arr4[::-1]"
      ],
      "metadata": {
        "colab": {
          "base_uri": "https://localhost:8080/"
        },
        "id": "VjHCbzRi6Ny0",
        "outputId": "8ff06361-02cf-45d2-8dac-65a3c78fad6b"
      },
      "execution_count": null,
      "outputs": [
        {
          "output_type": "execute_result",
          "data": {
            "text/plain": [
              "array([9, 8, 7, 6, 5, 4, 3, 2, 1])"
            ]
          },
          "metadata": {},
          "execution_count": 8
        }
      ]
    },
    {
      "cell_type": "code",
      "source": [
        "#9. Create a 3x3 matrix with values ranging from 0 to 8\n",
        "arr5 = np.arange(0,9).reshape(3,3)\n",
        "arr5\n"
      ],
      "metadata": {
        "colab": {
          "base_uri": "https://localhost:8080/"
        },
        "id": "yNK3_gTT6lGb",
        "outputId": "37e73c50-4b12-4b5a-9514-837e84745954"
      },
      "execution_count": null,
      "outputs": [
        {
          "output_type": "execute_result",
          "data": {
            "text/plain": [
              "array([[0, 1, 2],\n",
              "       [3, 4, 5],\n",
              "       [6, 7, 8]])"
            ]
          },
          "metadata": {},
          "execution_count": 9
        }
      ]
    },
    {
      "cell_type": "code",
      "source": [
        "#10. Find indices of non-zero elements from [1,2,0,0,4,0]\n",
        "arr6 = [1,2,0,0,4,0]\n",
        "np.nonzero(arr6)"
      ],
      "metadata": {
        "colab": {
          "base_uri": "https://localhost:8080/"
        },
        "id": "i5gS2jgs63qk",
        "outputId": "509dd1f6-cb5a-4818-833b-5c57b7ed1790"
      },
      "execution_count": null,
      "outputs": [
        {
          "output_type": "execute_result",
          "data": {
            "text/plain": [
              "(array([0, 1, 4]),)"
            ]
          },
          "metadata": {},
          "execution_count": 10
        }
      ]
    },
    {
      "cell_type": "code",
      "source": [
        "#11. Create a 3x3 identity matrix\n",
        "arr7 = np.eye(3,3)\n",
        "arr7\n"
      ],
      "metadata": {
        "colab": {
          "base_uri": "https://localhost:8080/"
        },
        "id": "POB91c9J7OgL",
        "outputId": "0b32995b-e97a-4963-8a40-e3221caea997"
      },
      "execution_count": null,
      "outputs": [
        {
          "output_type": "execute_result",
          "data": {
            "text/plain": [
              "array([[1., 0., 0.],\n",
              "       [0., 1., 0.],\n",
              "       [0., 0., 1.]])"
            ]
          },
          "metadata": {},
          "execution_count": 11
        }
      ]
    },
    {
      "cell_type": "code",
      "source": [
        "#12. Create a 3x3x3 array with random values\n",
        "arr8 = np.random.random(27).reshape(3,3,3)\n",
        "arr8"
      ],
      "metadata": {
        "colab": {
          "base_uri": "https://localhost:8080/"
        },
        "id": "IAmK5UVd7hPF",
        "outputId": "cae6e53b-6841-4a27-e99b-53fe3ad17629"
      },
      "execution_count": null,
      "outputs": [
        {
          "output_type": "execute_result",
          "data": {
            "text/plain": [
              "array([[[0.37476219, 0.82947725, 0.02687743],\n",
              "        [0.5984318 , 0.66721909, 0.08307934],\n",
              "        [0.74624598, 0.27467689, 0.9649668 ]],\n",
              "\n",
              "       [[0.98081608, 0.56157608, 0.28416824],\n",
              "        [0.93406174, 0.91184786, 0.47848634],\n",
              "        [0.76097151, 0.63394338, 0.52331253]],\n",
              "\n",
              "       [[0.70903118, 0.15665721, 0.24604231],\n",
              "        [0.84290122, 0.51923711, 0.53704782],\n",
              "        [0.07287589, 0.99444846, 0.76531326]]])"
            ]
          },
          "metadata": {},
          "execution_count": 12
        }
      ]
    },
    {
      "cell_type": "code",
      "source": [
        "#13. Create a 10x10 array with random values and find the minimum and maximum values\n",
        "arr9 = np.random.random(100).reshape(10,10)\n",
        "arr9,arr9.min(),arr9.max()"
      ],
      "metadata": {
        "colab": {
          "base_uri": "https://localhost:8080/"
        },
        "id": "hHFP-DaR78ny",
        "outputId": "e5d141fa-1126-47fa-e47b-e75055f082ae"
      },
      "execution_count": null,
      "outputs": [
        {
          "output_type": "execute_result",
          "data": {
            "text/plain": [
              "(array([[0.12260095, 0.97203447, 0.68644797, 0.3049513 , 0.27672408,\n",
              "         0.31724231, 0.33219182, 0.80690979, 0.59395476, 0.58608935],\n",
              "        [0.12306064, 0.61296694, 0.83733091, 0.48632425, 0.38630457,\n",
              "         0.4046224 , 0.74337424, 0.78405869, 0.37764684, 0.74347661],\n",
              "        [0.83565061, 0.80720081, 0.50636744, 0.42777079, 0.01608024,\n",
              "         0.5589034 , 0.10559594, 0.39761024, 0.83367095, 0.078544  ],\n",
              "        [0.83736225, 0.69832822, 0.74551596, 0.94893922, 0.01472232,\n",
              "         0.72288013, 0.36605789, 0.17967276, 0.72173701, 0.09722406],\n",
              "        [0.65702203, 0.36847099, 0.47414547, 0.05324066, 0.87391648,\n",
              "         0.719826  , 0.57157208, 0.39570891, 0.93305858, 0.66078574],\n",
              "        [0.15859524, 0.73702454, 0.51079029, 0.67616433, 0.50235045,\n",
              "         0.781884  , 0.36012594, 0.05647472, 0.49842953, 0.1983405 ],\n",
              "        [0.52947411, 0.35812325, 0.37444978, 0.3592056 , 0.02761289,\n",
              "         0.29956109, 0.45804772, 0.73864172, 0.96759408, 0.11469077],\n",
              "        [0.44681036, 0.1533637 , 0.34912115, 0.75970787, 0.02773357,\n",
              "         0.40294437, 0.93891328, 0.98957384, 0.51883214, 0.29545521],\n",
              "        [0.52870978, 0.81843411, 0.58302336, 0.88957794, 0.25460648,\n",
              "         0.28596841, 0.8606908 , 0.09084639, 0.93583905, 0.6013411 ],\n",
              "        [0.27828402, 0.87800819, 0.84516951, 0.20636278, 0.03446577,\n",
              "         0.29207216, 0.78548893, 0.47602091, 0.17471158, 0.79387839]]),\n",
              " 0.014722317519721972,\n",
              " 0.9895738426513163)"
            ]
          },
          "metadata": {},
          "execution_count": 13
        }
      ]
    },
    {
      "cell_type": "code",
      "source": [
        "#14. Create a random vector of size 30 and find the mean value\n",
        "arr10 = np.random.randint(100,size=30)\n",
        "arr10.mean()"
      ],
      "metadata": {
        "colab": {
          "base_uri": "https://localhost:8080/"
        },
        "id": "owzBv41b8Wz_",
        "outputId": "f20474ec-3d23-4820-fb9f-63651f946242"
      },
      "execution_count": null,
      "outputs": [
        {
          "output_type": "execute_result",
          "data": {
            "text/plain": [
              "53.6"
            ]
          },
          "metadata": {},
          "execution_count": 14
        }
      ]
    },
    {
      "cell_type": "code",
      "source": [
        "#15. Create a 2d array with 1 on the border and 0 inside\n",
        "arr11 = np.ones((5,5))\n",
        "arr11[1:-1,1:-1] = 0\n",
        "arr11\n"
      ],
      "metadata": {
        "colab": {
          "base_uri": "https://localhost:8080/"
        },
        "id": "S7i_2qNN8v1M",
        "outputId": "180f9004-a221-40cb-859f-fae51e62329e"
      },
      "execution_count": null,
      "outputs": [
        {
          "output_type": "execute_result",
          "data": {
            "text/plain": [
              "array([[1., 1., 1., 1., 1.],\n",
              "       [1., 0., 0., 0., 1.],\n",
              "       [1., 0., 0., 0., 1.],\n",
              "       [1., 0., 0., 0., 1.],\n",
              "       [1., 1., 1., 1., 1.]])"
            ]
          },
          "metadata": {},
          "execution_count": 15
        }
      ]
    },
    {
      "cell_type": "code",
      "source": [
        "#16. How to add a border (filled with 0's) around an existing array?\n",
        "arr12 = np.ones((5,5))\n",
        "arr12_1 = np.pad(arr12,pad_width=1,mode=\"constant\",constant_values=0)\n",
        "arr12_1"
      ],
      "metadata": {
        "colab": {
          "base_uri": "https://localhost:8080/"
        },
        "id": "_sYhB2nE-g_x",
        "outputId": "3b82cccc-c409-41b4-f899-39e95da15ca7"
      },
      "execution_count": null,
      "outputs": [
        {
          "output_type": "execute_result",
          "data": {
            "text/plain": [
              "array([[0., 0., 0., 0., 0., 0., 0.],\n",
              "       [0., 1., 1., 1., 1., 1., 0.],\n",
              "       [0., 1., 1., 1., 1., 1., 0.],\n",
              "       [0., 1., 1., 1., 1., 1., 0.],\n",
              "       [0., 1., 1., 1., 1., 1., 0.],\n",
              "       [0., 1., 1., 1., 1., 1., 0.],\n",
              "       [0., 0., 0., 0., 0., 0., 0.]])"
            ]
          },
          "metadata": {},
          "execution_count": 16
        }
      ]
    },
    {
      "cell_type": "code",
      "source": [
        "#17. What is the result of the following expression?\n",
        "# 0 * np.nan\n",
        "# np.nan == np.nan\n",
        "# np.inf > np.nan\n",
        "# np.nan - np.nan\n",
        "# 0.3 == 3 * 0.1\n",
        "\n",
        "print(0*np.nan)\n",
        "print(np.nan == np.nan)\n",
        "print(np.inf > np.nan)\n",
        "print(np.nan - np.nan)\n",
        "print(0.3 == 3*0.1)"
      ],
      "metadata": {
        "colab": {
          "base_uri": "https://localhost:8080/"
        },
        "id": "ZsFPSZLpk2LR",
        "outputId": "86f3d4be-4226-450d-aafa-5839e2707ef0"
      },
      "execution_count": null,
      "outputs": [
        {
          "output_type": "stream",
          "name": "stdout",
          "text": [
            "nan\n",
            "False\n",
            "False\n",
            "nan\n",
            "False\n"
          ]
        }
      ]
    },
    {
      "cell_type": "code",
      "source": [
        "#18. Create a 5x5 matrix with values 1,2,3,4 just below the diagonal\n",
        "arr13 = np.diag([1,2,3,4],k=-1)\n",
        "arr13"
      ],
      "metadata": {
        "colab": {
          "base_uri": "https://localhost:8080/"
        },
        "id": "XvDOLnVIsCCy",
        "outputId": "be29ce2e-23c4-4a65-c49c-919ad0824481"
      },
      "execution_count": null,
      "outputs": [
        {
          "output_type": "execute_result",
          "data": {
            "text/plain": [
              "array([[0, 0, 0, 0, 0],\n",
              "       [1, 0, 0, 0, 0],\n",
              "       [0, 2, 0, 0, 0],\n",
              "       [0, 0, 3, 0, 0],\n",
              "       [0, 0, 0, 4, 0]])"
            ]
          },
          "metadata": {},
          "execution_count": 18
        }
      ]
    },
    {
      "cell_type": "code",
      "source": [
        "#19. Create a 8x8 matrix and fill it with a checkerboard pattern\n",
        "arr14 = np.zeros((8,8),dtype=int)\n",
        "arr14[1::2,::2] = 1\n",
        "arr14[::2,1::2] = 1\n",
        "arr14\n"
      ],
      "metadata": {
        "id": "5KUyleUotsmE",
        "colab": {
          "base_uri": "https://localhost:8080/"
        },
        "outputId": "a0cf94b7-cfac-42f4-e694-f6699886f261"
      },
      "execution_count": null,
      "outputs": [
        {
          "output_type": "execute_result",
          "data": {
            "text/plain": [
              "array([[0, 1, 0, 1, 0, 1, 0, 1],\n",
              "       [1, 0, 1, 0, 1, 0, 1, 0],\n",
              "       [0, 1, 0, 1, 0, 1, 0, 1],\n",
              "       [1, 0, 1, 0, 1, 0, 1, 0],\n",
              "       [0, 1, 0, 1, 0, 1, 0, 1],\n",
              "       [1, 0, 1, 0, 1, 0, 1, 0],\n",
              "       [0, 1, 0, 1, 0, 1, 0, 1],\n",
              "       [1, 0, 1, 0, 1, 0, 1, 0]])"
            ]
          },
          "metadata": {},
          "execution_count": 19
        }
      ]
    },
    {
      "cell_type": "code",
      "source": [
        "#20. Consider a (6,7,8) shape array, what is the index (x,y,z) of the 100th element?\n",
        "arr15 = np.unravel_index(100, (6,7,8))\n",
        "arr15"
      ],
      "metadata": {
        "colab": {
          "base_uri": "https://localhost:8080/"
        },
        "id": "czsAQzNO-6g3",
        "outputId": "c6278dea-0902-4a1d-c0a3-221512109a4b"
      },
      "execution_count": null,
      "outputs": [
        {
          "output_type": "execute_result",
          "data": {
            "text/plain": [
              "(1, 5, 4)"
            ]
          },
          "metadata": {},
          "execution_count": 20
        }
      ]
    },
    {
      "cell_type": "code",
      "source": [
        "#21. Create a checkerboard 8x8 matrix using the tile function\n",
        "arr16 = np.tile(np.array([[0,1],[1,0]]),(4,4))\n",
        "arr16.shape\n"
      ],
      "metadata": {
        "colab": {
          "base_uri": "https://localhost:8080/"
        },
        "id": "rbPmuwHI_lrQ",
        "outputId": "0fae78a7-e113-4c5b-8bdc-40bc1e27df64"
      },
      "execution_count": null,
      "outputs": [
        {
          "output_type": "execute_result",
          "data": {
            "text/plain": [
              "(8, 8)"
            ]
          },
          "metadata": {},
          "execution_count": 21
        }
      ]
    },
    {
      "cell_type": "code",
      "source": [
        "#22. Normalize a 5x5 random matrix\n",
        "arr17 = np.arange(1,26).reshape(5,5)\n",
        "arr17_normlz = []\n",
        "for i in range(len(arr17)):\n",
        "  for j in range(len(arr17[i])):\n",
        "    arr17_normlz.append(((arr17[i][j])-arr17.min())/(arr17.max()-arr17.min()))\n",
        "arr17_normlzd=np.array(arr17_normlz).reshape(5,5)\n",
        "arr17_normlzd"
      ],
      "metadata": {
        "id": "fW12Zf3ZAWoW",
        "colab": {
          "base_uri": "https://localhost:8080/"
        },
        "outputId": "7e3919cb-1c7f-4b81-9ef2-ce29e944f6d9"
      },
      "execution_count": null,
      "outputs": [
        {
          "output_type": "execute_result",
          "data": {
            "text/plain": [
              "array([[0.        , 0.04166667, 0.08333333, 0.125     , 0.16666667],\n",
              "       [0.20833333, 0.25      , 0.29166667, 0.33333333, 0.375     ],\n",
              "       [0.41666667, 0.45833333, 0.5       , 0.54166667, 0.58333333],\n",
              "       [0.625     , 0.66666667, 0.70833333, 0.75      , 0.79166667],\n",
              "       [0.83333333, 0.875     , 0.91666667, 0.95833333, 1.        ]])"
            ]
          },
          "metadata": {},
          "execution_count": 12
        }
      ]
    },
    {
      "cell_type": "code",
      "source": [
        "# modified code of question 22\n",
        "ar = np.random.randint(100,size=(5,5))\n",
        "def normalize(array):\n",
        "  l = []\n",
        "  for i in range(len(array)):\n",
        "    for j in range(len(array[i])):\n",
        "      l.append(((array[i][j])-array.min())/(array.max()-array.min()))\n",
        "  l_nlzd = np.array(l).reshape(array.shape)\n",
        "  return l_nlzd\n",
        "print(ar)\n",
        "print(normalize(ar))"
      ],
      "metadata": {
        "colab": {
          "base_uri": "https://localhost:8080/"
        },
        "id": "rPw2VKp-8Bep",
        "outputId": "443c51ce-19bc-4570-9e62-0fd097f36a14"
      },
      "execution_count": null,
      "outputs": [
        {
          "output_type": "stream",
          "name": "stdout",
          "text": [
            "[[15 36 83 42 29]\n",
            " [54 49 60 62 67]\n",
            " [32 79 32 95 65]\n",
            " [ 4  9 45 54 27]\n",
            " [56 39 35 22 36]]\n",
            "[[0.12087912 0.35164835 0.86813187 0.41758242 0.27472527]\n",
            " [0.54945055 0.49450549 0.61538462 0.63736264 0.69230769]\n",
            " [0.30769231 0.82417582 0.30769231 1.         0.67032967]\n",
            " [0.         0.05494505 0.45054945 0.54945055 0.25274725]\n",
            " [0.57142857 0.38461538 0.34065934 0.1978022  0.35164835]]\n"
          ]
        }
      ]
    },
    {
      "cell_type": "code",
      "source": [
        "nr = (ar - np.mean (ar)) / (np.std (ar))\n",
        "print(nr)"
      ],
      "metadata": {
        "colab": {
          "base_uri": "https://localhost:8080/"
        },
        "id": "_zW50PV8pL3c",
        "outputId": "9bfadeec-191f-4caa-c46e-d0693a6955a9"
      },
      "execution_count": null,
      "outputs": [
        {
          "output_type": "stream",
          "name": "stdout",
          "text": [
            "[[-1.34911823 -0.40724712  1.7007501  -0.13814109 -0.72120416]\n",
            " [ 0.40007096  0.17581594  0.66917699  0.758879    0.98313403]\n",
            " [-0.58665114  1.52134609 -0.58665114  2.23896216  0.89343202]\n",
            " [-1.84247928 -1.61822426 -0.00358808  0.40007096 -0.81090617]\n",
            " [ 0.48977297 -0.27269411 -0.45209813 -1.03516119 -0.40724712]]\n"
          ]
        }
      ]
    },
    {
      "cell_type": "code",
      "source": [
        "#23. Create a custom dtype that describes a color as four unsigned bytes (RGBA)\n",
        "color = np.dtype([(\"r\", np.ubyte),\n",
        "                  (\"g\", np.ubyte),\n",
        "                  (\"b\", np.ubyte),\n",
        "                  (\"a\", np.ubyte)])\n",
        "print(color)\n"
      ],
      "metadata": {
        "id": "glkXoeQaOX4u",
        "colab": {
          "base_uri": "https://localhost:8080/"
        },
        "outputId": "d351685c-19b0-4b74-e0e7-4842014bd6d3"
      },
      "execution_count": null,
      "outputs": [
        {
          "output_type": "stream",
          "name": "stdout",
          "text": [
            "[('r', 'u1'), ('g', 'u1'), ('b', 'u1'), ('a', 'u1')]\n"
          ]
        }
      ]
    },
    {
      "cell_type": "code",
      "source": [
        "#24. Multiply a 5x3 matrix by a 3x2 matrix (real matrix product)\n",
        "matrix1 = np.arange(15).reshape(5,3)\n",
        "matrix2 = np.arange(15,21).reshape(3,2)\n",
        "dot_p = np.dot(matrix1,matrix2)\n",
        "print(dot_p)\n",
        "\n"
      ],
      "metadata": {
        "colab": {
          "base_uri": "https://localhost:8080/"
        },
        "id": "eYZF1VW4OZtN",
        "outputId": "a821aa8a-66a7-4075-ac42-473399f0b164"
      },
      "execution_count": null,
      "outputs": [
        {
          "output_type": "stream",
          "name": "stdout",
          "text": [
            "[[ 55  58]\n",
            " [208 220]\n",
            " [361 382]\n",
            " [514 544]\n",
            " [667 706]]\n"
          ]
        }
      ]
    },
    {
      "cell_type": "code",
      "source": [
        "#25. Given a 1D array, negate all elements which are between 3 and 8, in place.\n",
        "arr18 = np.arange(11)\n",
        "arr18[(3 < arr18) & (arr18 < 8)] *= -1\n",
        "print(arr18)"
      ],
      "metadata": {
        "colab": {
          "base_uri": "https://localhost:8080/"
        },
        "id": "QjW7eE9nm5ed",
        "outputId": "d98e568c-4553-4a6a-d35b-f145c5d76261"
      },
      "execution_count": null,
      "outputs": [
        {
          "output_type": "stream",
          "name": "stdout",
          "text": [
            "[ 0  1  2  3 -4 -5 -6 -7  8  9 10]\n"
          ]
        }
      ]
    },
    {
      "cell_type": "markdown",
      "source": [
        "#26. What is the output of the following script?\n",
        "print(sum(range(5),-1))\n",
        "from numpy import *\n",
        "print(sum(range(5),-1))"
      ],
      "metadata": {
        "id": "ThlURgiNuDzJ"
      }
    },
    {
      "cell_type": "code",
      "source": [
        "#26. What is the output of the following script?\n",
        "print(sum(range(5),-1))\n",
        "from numpy import *\n",
        "print(sum(range(5),-1))"
      ],
      "metadata": {
        "colab": {
          "base_uri": "https://localhost:8080/"
        },
        "id": "197uB0PDsH13",
        "outputId": "ebf4c9ca-cfe6-4d23-ceb1-b4bb5e541362"
      },
      "execution_count": null,
      "outputs": [
        {
          "output_type": "stream",
          "name": "stdout",
          "text": [
            "10\n",
            "10\n"
          ]
        }
      ]
    },
    {
      "cell_type": "markdown",
      "source": [
        "#27. Consider an integer vector Z, which of these expressions are legal?\n",
        "Z**Z , \n",
        "2 << Z >> 2 ,\n",
        "Z <- Z ,\n",
        "1j*Z ,\n",
        "Z/1/1 ,\n",
        "Z<Z>Z ,"
      ],
      "metadata": {
        "id": "rNAk4KFcua-H"
      }
    },
    {
      "cell_type": "code",
      "source": [
        "# Answer is 1j*Z"
      ],
      "metadata": {
        "id": "FAA5rGp7uYSZ"
      },
      "execution_count": null,
      "outputs": []
    },
    {
      "cell_type": "code",
      "source": [
        "#28. What are the result of the following expressions?\n",
        "np.array(0) / np.array(0)\n",
        "np.array(0) // np.array(0)\n",
        "np.array([np.nan]).astype(int).astype(float)"
      ],
      "metadata": {
        "colab": {
          "base_uri": "https://localhost:8080/"
        },
        "id": "oGyA34witqMw",
        "outputId": "5aa87a3f-cbab-437b-a900-8423ca9a7395"
      },
      "execution_count": null,
      "outputs": [
        {
          "output_type": "stream",
          "name": "stderr",
          "text": [
            "/usr/local/lib/python3.7/dist-packages/ipykernel_launcher.py:2: RuntimeWarning: invalid value encountered in true_divide\n",
            "  \n",
            "/usr/local/lib/python3.7/dist-packages/ipykernel_launcher.py:3: RuntimeWarning: divide by zero encountered in floor_divide\n",
            "  This is separate from the ipykernel package so we can avoid doing imports until\n"
          ]
        },
        {
          "output_type": "execute_result",
          "data": {
            "text/plain": [
              "array([-9.22337204e+18])"
            ]
          },
          "metadata": {},
          "execution_count": 38
        }
      ]
    },
    {
      "cell_type": "code",
      "source": [
        "#29. How to round away from zero a float array ?\n",
        "arr19 = np.array([32.11, 51.5, 0.112])\n",
        "np.round(arr19,0)\n"
      ],
      "metadata": {
        "colab": {
          "base_uri": "https://localhost:8080/"
        },
        "id": "k933_lEDu86D",
        "outputId": "d5fc7bb9-d704-414e-e330-d1c68d9fb369"
      },
      "execution_count": null,
      "outputs": [
        {
          "output_type": "execute_result",
          "data": {
            "text/plain": [
              "array([32., 52.,  0.])"
            ]
          },
          "metadata": {},
          "execution_count": 40
        }
      ]
    },
    {
      "cell_type": "code",
      "source": [
        "#30. How to find common values between two arrays? (★☆☆)\n",
        "#(hint: np.intersect1d)\n",
        "arr20 = np.array([5,10,15,20,25,30,35,40,45,50])\n",
        "arr21 = np.array([10,20,30,40,50,60,70,80,90,100])\n",
        "co_arr = np.intersect1d(arr20,arr21)\n",
        "print(f\"1st array is \\n{arr20}\")\n",
        "print(f\"2nd array is \\n{arr21}\")\n",
        "print(f\"common values in both arrays \\n{co_arr}\")"
      ],
      "metadata": {
        "colab": {
          "base_uri": "https://localhost:8080/"
        },
        "id": "UGiikVujwWu3",
        "outputId": "2462bcc9-9e76-4dd6-c0df-0160c6e0b50a"
      },
      "execution_count": null,
      "outputs": [
        {
          "output_type": "stream",
          "name": "stdout",
          "text": [
            "1st array is \n",
            "[ 5 10 15 20 25 30 35 40 45 50]\n",
            "2nd array is \n",
            "[ 10  20  30  40  50  60  70  80  90 100]\n",
            "common values in both arrays \n",
            "[10 20 30 40 50]\n"
          ]
        }
      ]
    },
    {
      "cell_type": "code",
      "source": [
        "#31. How to ignore all numpy warnings (not recommended)? (★☆☆)\n",
        "#(hint: np.seterr, np.errstate)\n",
        "Array1 = np.array([6, 2, 0])\n",
        "Array2 = np.array([3, 2, 0])\n",
        "np.seterr(invalid='ignore')\n",
        "np.divide(Array1, Array2)"
      ],
      "metadata": {
        "colab": {
          "base_uri": "https://localhost:8080/"
        },
        "id": "F3pflZdfyNLe",
        "outputId": "89ee2397-ef71-4748-e21c-1031b57c13ff"
      },
      "execution_count": null,
      "outputs": [
        {
          "output_type": "execute_result",
          "data": {
            "text/plain": [
              "array([ 2.,  1., nan])"
            ]
          },
          "metadata": {},
          "execution_count": 9
        }
      ]
    },
    {
      "cell_type": "code",
      "source": [
        "#32. Is the following expressions true? (★☆☆)\n",
        "#(hint: imaginary number)\n",
        "np.sqrt(-1) == np.emath.sqrt(-1)  # output will be false"
      ],
      "metadata": {
        "colab": {
          "base_uri": "https://localhost:8080/"
        },
        "id": "DoNUFH2iFO6X",
        "outputId": "d4b64953-4e9f-46a9-f079-7e462efa3c2b"
      },
      "execution_count": null,
      "outputs": [
        {
          "output_type": "execute_result",
          "data": {
            "text/plain": [
              "False"
            ]
          },
          "metadata": {},
          "execution_count": 10
        }
      ]
    },
    {
      "cell_type": "code",
      "source": [
        "#33. How to get the dates of yesterday, today and tomorrow? (★☆☆)\n",
        "#(hint: np.datetime64, np.timedelta64)\n",
        "import numpy as np\n",
        "\n",
        "# for today\n",
        "TD = np.datetime64('today', 'D')\n",
        "print(\"Today: \", TD)\n",
        "\n",
        "# for yesterday\n",
        "YD = np.datetime64('today', 'D')\n",
        "- np.timedelta64(1, 'D')\n",
        "\n",
        "print(\"Yestraday: \", YD)\n",
        "\n",
        "# for tomorrow\n",
        "TW = np.datetime64('today', 'D')\n",
        "+ np.timedelta64(1, 'D')\n",
        "\n",
        "print(\"Tomorrow: \", TW)\n",
        "\n"
      ],
      "metadata": {
        "id": "ohrPVXItFta6",
        "colab": {
          "base_uri": "https://localhost:8080/"
        },
        "outputId": "2f97966b-fa3d-41c4-db47-5042011a9843"
      },
      "execution_count": null,
      "outputs": [
        {
          "output_type": "stream",
          "name": "stdout",
          "text": [
            "Today:  2022-06-09\n",
            "Yestraday:  2022-06-09\n",
            "Tomorrow:  2022-06-09\n"
          ]
        }
      ]
    },
    {
      "cell_type": "code",
      "source": [
        "#34. How to get all the dates corresponding to the month of July 2016? (★★☆)\n",
        "#(hint: np.arange(dtype=datetime64['D']))\n",
        "july = np.arange('2016-07','2016-08',dtype='datetime64[D]')\n",
        "for i in july:\n",
        "  print(i)"
      ],
      "metadata": {
        "colab": {
          "base_uri": "https://localhost:8080/"
        },
        "id": "NqRT-8rPalNM",
        "outputId": "117df7bf-90ca-4fd4-cb2b-19acc18ad07b"
      },
      "execution_count": null,
      "outputs": [
        {
          "output_type": "stream",
          "name": "stdout",
          "text": [
            "2016-07-01\n",
            "2016-07-02\n",
            "2016-07-03\n",
            "2016-07-04\n",
            "2016-07-05\n",
            "2016-07-06\n",
            "2016-07-07\n",
            "2016-07-08\n",
            "2016-07-09\n",
            "2016-07-10\n",
            "2016-07-11\n",
            "2016-07-12\n",
            "2016-07-13\n",
            "2016-07-14\n",
            "2016-07-15\n",
            "2016-07-16\n",
            "2016-07-17\n",
            "2016-07-18\n",
            "2016-07-19\n",
            "2016-07-20\n",
            "2016-07-21\n",
            "2016-07-22\n",
            "2016-07-23\n",
            "2016-07-24\n",
            "2016-07-25\n",
            "2016-07-26\n",
            "2016-07-27\n",
            "2016-07-28\n",
            "2016-07-29\n",
            "2016-07-30\n",
            "2016-07-31\n"
          ]
        }
      ]
    },
    {
      "cell_type": "code",
      "source": [
        "#35. How to compute ((A+B)*(-A/2)) in place (without copy)? (★★☆)\n",
        "#(hint: np.add(out=), np.negative(out=), np.multiply(out=), np.divide(out=))\n",
        "a = 10\n",
        "b = 20\n",
        "np.add(a,b)\n",
        "np.multiply(np.add(a,b),np.divide(np.negative(a),2))"
      ],
      "metadata": {
        "colab": {
          "base_uri": "https://localhost:8080/"
        },
        "id": "ih-eGy18dgmi",
        "outputId": "9302091f-f3c0-4ab3-b824-d60ffb589dc2"
      },
      "execution_count": null,
      "outputs": [
        {
          "output_type": "execute_result",
          "data": {
            "text/plain": [
              "-150.0"
            ]
          },
          "metadata": {},
          "execution_count": 10
        }
      ]
    },
    {
      "cell_type": "code",
      "source": [
        "#36. Extract the integer part of a random array using 5 different methods (★★☆)\n",
        "#(hint: %, np.floor, np.ceil, astype, np.trunc)\n",
        "arr36 = np.random.uniform(0,10,10)\n",
        "\n"
      ],
      "metadata": {
        "id": "S1yaQO3sfelf"
      },
      "execution_count": null,
      "outputs": []
    },
    {
      "cell_type": "code",
      "source": [
        "arr36"
      ],
      "metadata": {
        "colab": {
          "base_uri": "https://localhost:8080/"
        },
        "id": "EmozcuVbsVFG",
        "outputId": "e9a1be74-962f-4ec7-8bd2-a88313c8d771"
      },
      "execution_count": null,
      "outputs": [
        {
          "output_type": "execute_result",
          "data": {
            "text/plain": [
              "array([5.46699942, 3.72353228, 2.01109197, 3.92867327, 1.20787772,\n",
              "       7.94788409, 2.51978759, 3.63752253, 9.64455947, 9.06747711])"
            ]
          },
          "metadata": {},
          "execution_count": 44
        }
      ]
    },
    {
      "cell_type": "code",
      "source": [
        "print(arr36 - arr36%1)\n",
        "print(arr36//1)\n",
        "print(np.floor(arr36))\n",
        "print(arr36.astype(int))\n",
        "print(np.trunc(arr36))\n"
      ],
      "metadata": {
        "colab": {
          "base_uri": "https://localhost:8080/"
        },
        "id": "aFpKheQYsoEt",
        "outputId": "45fa4bee-df50-440d-9469-3aa9ea4cc818"
      },
      "execution_count": null,
      "outputs": [
        {
          "output_type": "stream",
          "name": "stdout",
          "text": [
            "[5. 3. 2. 3. 1. 7. 2. 3. 9. 9.]\n",
            "[5. 3. 2. 3. 1. 7. 2. 3. 9. 9.]\n",
            "[5. 3. 2. 3. 1. 7. 2. 3. 9. 9.]\n",
            "[5 3 2 3 1 7 2 3 9 9]\n",
            "[5. 3. 2. 3. 1. 7. 2. 3. 9. 9.]\n"
          ]
        }
      ]
    },
    {
      "cell_type": "code",
      "source": [
        "#37. Create a 5x5 matrix with row values ranging from 0 to 4 (★★☆)\n",
        "#(hint: np.arange)\n",
        "arr37 = np.zeros((5,5))\n",
        "arr37 += np.arange(5)\n",
        "print(arr37) "
      ],
      "metadata": {
        "colab": {
          "base_uri": "https://localhost:8080/"
        },
        "id": "lyGF0f-pt0y2",
        "outputId": "87b5b74f-9d37-4262-a485-5e919609bf81"
      },
      "execution_count": null,
      "outputs": [
        {
          "output_type": "stream",
          "name": "stdout",
          "text": [
            "[[0. 1. 2. 3. 4.]\n",
            " [0. 1. 2. 3. 4.]\n",
            " [0. 1. 2. 3. 4.]\n",
            " [0. 1. 2. 3. 4.]\n",
            " [0. 1. 2. 3. 4.]]\n"
          ]
        }
      ]
    },
    {
      "cell_type": "code",
      "source": [
        "arr_37 = np.tile(np.arange(0, 5), (5,1))\n",
        "print(arr_37)\n"
      ],
      "metadata": {
        "colab": {
          "base_uri": "https://localhost:8080/"
        },
        "id": "s8iR_mzsvM2F",
        "outputId": "db5f3084-844e-4cb6-d1bb-f8523620bfc0"
      },
      "execution_count": null,
      "outputs": [
        {
          "output_type": "stream",
          "name": "stdout",
          "text": [
            "[[0 1 2 3 4]\n",
            " [0 1 2 3 4]\n",
            " [0 1 2 3 4]\n",
            " [0 1 2 3 4]\n",
            " [0 1 2 3 4]]\n"
          ]
        }
      ]
    },
    {
      "cell_type": "code",
      "source": [
        "#38. Consider a generator function that generates 10 integers and use it to build an array (★☆☆)\n",
        "#(hint: np.fromiter)\n",
        "def generate():\n",
        "    for i in range(1,11):\n",
        "        yield i\n",
        "arr38 = np.fromiter(generate(),dtype=int,count=-1)\n",
        "print(arr38)"
      ],
      "metadata": {
        "colab": {
          "base_uri": "https://localhost:8080/"
        },
        "id": "B7typGtEutCz",
        "outputId": "8bb6cc87-196b-4e1b-92fc-74cfe48622a0"
      },
      "execution_count": null,
      "outputs": [
        {
          "output_type": "stream",
          "name": "stdout",
          "text": [
            "[ 1  2  3  4  5  6  7  8  9 10]\n"
          ]
        }
      ]
    },
    {
      "cell_type": "code",
      "source": [
        "#39. Create a vector of size 10 with values ranging from 0 to 1, both excluded (★★☆)\n",
        "#(hint: np.linspace)\n",
        "arr39 = np.linspace(0,1,11,endpoint=False)[1:]\n",
        "print(arr39)"
      ],
      "metadata": {
        "colab": {
          "base_uri": "https://localhost:8080/"
        },
        "id": "-ZJJa9lAxuSB",
        "outputId": "0041c438-95e9-4fc4-e098-a900bc6a22c5"
      },
      "execution_count": null,
      "outputs": [
        {
          "output_type": "stream",
          "name": "stdout",
          "text": [
            "[0.09090909 0.18181818 0.27272727 0.36363636 0.45454545 0.54545455\n",
            " 0.63636364 0.72727273 0.81818182 0.90909091]\n"
          ]
        }
      ]
    },
    {
      "cell_type": "code",
      "source": [
        "#40. Create a random vector of size 10 and sort it (★★☆)\n",
        "arr40 = np.random.randint(0,100,10)\n",
        "arr40.sort()\n",
        "print(arr40)"
      ],
      "metadata": {
        "colab": {
          "base_uri": "https://localhost:8080/"
        },
        "id": "fz-Kp8hTzjmV",
        "outputId": "1951eac9-2cde-45d5-b417-e3a05d6d2f5c"
      },
      "execution_count": null,
      "outputs": [
        {
          "output_type": "stream",
          "name": "stdout",
          "text": [
            "[13 20 32 33 37 39 54 89 89 90]\n"
          ]
        }
      ]
    },
    {
      "cell_type": "code",
      "source": [
        "#41. How to sum a small array faster than np.sum? (★★☆)\n",
        "#(hint: np.add.reduce)\n",
        "arr41 = np.arange(10)\n",
        "np.add.reduce(arr41)"
      ],
      "metadata": {
        "colab": {
          "base_uri": "https://localhost:8080/"
        },
        "id": "GHWb3fft0Pzu",
        "outputId": "1e21ec71-dbab-4a75-9e9f-c756329a4084"
      },
      "execution_count": null,
      "outputs": [
        {
          "output_type": "execute_result",
          "data": {
            "text/plain": [
              "45"
            ]
          },
          "metadata": {},
          "execution_count": 63
        }
      ]
    },
    {
      "cell_type": "code",
      "source": [
        "#42. Consider two random array A and B, check if they are equal (★★☆)\n",
        "#(hint: np.allclose, np.array_equal)\n",
        "A = np.random.randint(0,2,5)\n",
        "B = np.random.randint(0,2,5)\n",
        "eq1 = np.allclose(A,B)\n",
        "eq2 = np.array_equal(A,B)\n",
        "print(eq1)\n",
        "print(eq2)"
      ],
      "metadata": {
        "colab": {
          "base_uri": "https://localhost:8080/"
        },
        "id": "oSK_qs-50iFf",
        "outputId": "edb6baa7-39ac-4b74-9c41-690c479363ed"
      },
      "execution_count": null,
      "outputs": [
        {
          "output_type": "stream",
          "name": "stdout",
          "text": [
            "False\n",
            "False\n"
          ]
        }
      ]
    },
    {
      "cell_type": "code",
      "source": [
        "#43. Make an array immutable (read-only) (★★☆)\n",
        "#(hint: flags.writeable)\n",
        "arr43 = np.zeros(10)\n",
        "arr43.flags.writeable = False\n",
        "arr43[0] = 1"
      ],
      "metadata": {
        "colab": {
          "base_uri": "https://localhost:8080/",
          "height": 209
        },
        "id": "bfC4rM7G11Cp",
        "outputId": "6c76c469-a63e-49ef-8e29-55d3d62cb979"
      },
      "execution_count": null,
      "outputs": [
        {
          "output_type": "error",
          "ename": "ValueError",
          "evalue": "ignored",
          "traceback": [
            "\u001b[0;31m---------------------------------------------------------------------------\u001b[0m",
            "\u001b[0;31mValueError\u001b[0m                                Traceback (most recent call last)",
            "\u001b[0;32m<ipython-input-66-963f6ca03981>\u001b[0m in \u001b[0;36m<module>\u001b[0;34m()\u001b[0m\n\u001b[1;32m      3\u001b[0m \u001b[0marr43\u001b[0m \u001b[0;34m=\u001b[0m \u001b[0mnp\u001b[0m\u001b[0;34m.\u001b[0m\u001b[0mzeros\u001b[0m\u001b[0;34m(\u001b[0m\u001b[0;36m10\u001b[0m\u001b[0;34m)\u001b[0m\u001b[0;34m\u001b[0m\u001b[0;34m\u001b[0m\u001b[0m\n\u001b[1;32m      4\u001b[0m \u001b[0marr43\u001b[0m\u001b[0;34m.\u001b[0m\u001b[0mflags\u001b[0m\u001b[0;34m.\u001b[0m\u001b[0mwriteable\u001b[0m \u001b[0;34m=\u001b[0m \u001b[0;32mFalse\u001b[0m\u001b[0;34m\u001b[0m\u001b[0;34m\u001b[0m\u001b[0m\n\u001b[0;32m----> 5\u001b[0;31m \u001b[0marr43\u001b[0m\u001b[0;34m[\u001b[0m\u001b[0;36m0\u001b[0m\u001b[0;34m]\u001b[0m \u001b[0;34m=\u001b[0m \u001b[0;36m1\u001b[0m\u001b[0;34m\u001b[0m\u001b[0;34m\u001b[0m\u001b[0m\n\u001b[0m",
            "\u001b[0;31mValueError\u001b[0m: assignment destination is read-only"
          ]
        }
      ]
    },
    {
      "cell_type": "code",
      "source": [
        "#44. Consider a random 10x2 matrix representing cartesian coordinates, convert them to polar coordinates (★★☆)\n",
        "#(hint: np.sqrt, np.arctan2)\n",
        "arr44 = np.random.random((10,2))\n",
        "X,Y = arr44[:,0],arr44[:,1]\n",
        "R = np.sqrt(X**2+Y**2)\n",
        "T = np.arctan2(Y,X)\n",
        "print(R)\n",
        "print(T)"
      ],
      "metadata": {
        "colab": {
          "base_uri": "https://localhost:8080/"
        },
        "id": "f8EQ2fDP1wn6",
        "outputId": "44491fea-a745-4acc-88cd-0403f1f9cf7d"
      },
      "execution_count": null,
      "outputs": [
        {
          "output_type": "stream",
          "name": "stdout",
          "text": [
            "[0.32115601 0.2140142  0.40252224 0.83580709 0.82403215 1.09209375\n",
            " 0.9249925  0.38721345 1.00400049 1.06228565]\n",
            "[1.34356436 0.40921479 0.79906889 0.5309112  0.77388387 0.52484898\n",
            " 0.16700835 0.08427927 1.20601948 1.03946471]\n"
          ]
        }
      ]
    },
    {
      "cell_type": "code",
      "source": [
        "#45. Create random vector of size 10 and replace the maximum value by 0 (★★☆)\n",
        "#(hint: argmax)\n",
        "arr45 = np.random.random(10)\n",
        "print(arr45[arr45.argmax()])\n",
        "print(\"Array before replacing :\" , arr45)\n",
        "arr45[arr45.argmax()] = 0\n",
        "print(\"Array after replacing :\" , arr45)"
      ],
      "metadata": {
        "id": "QDN_9NlD4Z6k",
        "colab": {
          "base_uri": "https://localhost:8080/"
        },
        "outputId": "2480218c-3d10-4a80-ba08-d6f6c8270478"
      },
      "execution_count": null,
      "outputs": [
        {
          "output_type": "stream",
          "name": "stdout",
          "text": [
            "0.9430414956892672\n",
            "Array before replacing : [0.88939075 0.58532243 0.6256947  0.05485476 0.84227684 0.09308721\n",
            " 0.9430415  0.35383633 0.65864681 0.71814929]\n",
            "Array after replacing : [0.88939075 0.58532243 0.6256947  0.05485476 0.84227684 0.09308721\n",
            " 0.         0.35383633 0.65864681 0.71814929]\n"
          ]
        }
      ]
    },
    {
      "cell_type": "code",
      "source": [
        "#46. Create a structured array with x and y coordinates covering the [0,1]x[0,1] area (★★☆)\n",
        "#(hint: np.meshgrid)\n",
        "arr46 = np.zeros((5,5), [('x',float),('y',float)])\n",
        "arr46['x'], arr46['y'] = np.meshgrid(np.linspace(0,1,5),\n",
        "                             np.linspace(0,1,5))\n",
        "print(arr46)"
      ],
      "metadata": {
        "colab": {
          "base_uri": "https://localhost:8080/"
        },
        "id": "bKW0k8YIrRZJ",
        "outputId": "dba77717-6aff-4585-8002-cb237d304bbd"
      },
      "execution_count": null,
      "outputs": [
        {
          "output_type": "stream",
          "name": "stdout",
          "text": [
            "[[(0.  , 0.  ) (0.25, 0.  ) (0.5 , 0.  ) (0.75, 0.  ) (1.  , 0.  )]\n",
            " [(0.  , 0.25) (0.25, 0.25) (0.5 , 0.25) (0.75, 0.25) (1.  , 0.25)]\n",
            " [(0.  , 0.5 ) (0.25, 0.5 ) (0.5 , 0.5 ) (0.75, 0.5 ) (1.  , 0.5 )]\n",
            " [(0.  , 0.75) (0.25, 0.75) (0.5 , 0.75) (0.75, 0.75) (1.  , 0.75)]\n",
            " [(0.  , 1.  ) (0.25, 1.  ) (0.5 , 1.  ) (0.75, 1.  ) (1.  , 1.  )]]\n"
          ]
        }
      ]
    },
    {
      "cell_type": "code",
      "source": [
        "#47. Given two arrays, X and Y, construct the Cauchy matrix C (Cij =1/(xi - yj))\n",
        "#(hint: np.subtract.outer)\n",
        "X = np.arange(8)\n",
        "Y = X + 0.5\n",
        "C = 1.0 / np.subtract.outer(X, Y)\n",
        "print(np.linalg.det(C))"
      ],
      "metadata": {
        "colab": {
          "base_uri": "https://localhost:8080/"
        },
        "id": "vf9_zJkOr3VH",
        "outputId": "0e375a82-79a9-4829-f6d1-0706440c75c2"
      },
      "execution_count": null,
      "outputs": [
        {
          "output_type": "stream",
          "name": "stdout",
          "text": [
            "3638.163637117973\n"
          ]
        }
      ]
    },
    {
      "cell_type": "code",
      "source": [
        "#48. Print the minimum and maximum representable value for each numpy scalar type (★★☆)\n",
        "#(hint: np.iinfo, np.finfo, eps)\n",
        "for dtype in [np.int8, np.int32, np.int64]:\n",
        "   print(np.iinfo(dtype).min)\n",
        "   print(np.iinfo(dtype).max)\n",
        "for dtype in [np.float32, np.float64]:\n",
        "   print(np.finfo(dtype).min)\n",
        "   print(np.finfo(dtype).max)\n",
        "   print(np.finfo(dtype).eps)"
      ],
      "metadata": {
        "colab": {
          "base_uri": "https://localhost:8080/"
        },
        "id": "JKYy5IKWsIQn",
        "outputId": "bd89e77e-820d-471d-c39a-9aeeb0d4a721"
      },
      "execution_count": null,
      "outputs": [
        {
          "output_type": "stream",
          "name": "stdout",
          "text": [
            "-128\n",
            "127\n",
            "-2147483648\n",
            "2147483647\n",
            "-9223372036854775808\n",
            "9223372036854775807\n",
            "-3.4028235e+38\n",
            "3.4028235e+38\n",
            "1.1920929e-07\n",
            "-1.7976931348623157e+308\n",
            "1.7976931348623157e+308\n",
            "2.220446049250313e-16\n"
          ]
        }
      ]
    },
    {
      "cell_type": "code",
      "source": [
        "#49. How to print all the values of an array? (★★☆)\n",
        "#(hint: np.set_printoptions)\n",
        "np.set_printoptions(threshold=float(\"inf\"))\n",
        "arr49 = np.zeros((40,40))\n",
        "print(arr49)"
      ],
      "metadata": {
        "colab": {
          "base_uri": "https://localhost:8080/"
        },
        "id": "QVSiwXCssRgQ",
        "outputId": "300d1b57-e6bb-4b58-c11e-c39f11e92be5"
      },
      "execution_count": null,
      "outputs": [
        {
          "output_type": "stream",
          "name": "stdout",
          "text": [
            "[[0. 0. 0. 0. 0. 0. 0. 0. 0. 0. 0. 0. 0. 0. 0. 0. 0. 0. 0. 0. 0. 0. 0. 0.\n",
            "  0. 0. 0. 0. 0. 0. 0. 0. 0. 0. 0. 0. 0. 0. 0. 0.]\n",
            " [0. 0. 0. 0. 0. 0. 0. 0. 0. 0. 0. 0. 0. 0. 0. 0. 0. 0. 0. 0. 0. 0. 0. 0.\n",
            "  0. 0. 0. 0. 0. 0. 0. 0. 0. 0. 0. 0. 0. 0. 0. 0.]\n",
            " [0. 0. 0. 0. 0. 0. 0. 0. 0. 0. 0. 0. 0. 0. 0. 0. 0. 0. 0. 0. 0. 0. 0. 0.\n",
            "  0. 0. 0. 0. 0. 0. 0. 0. 0. 0. 0. 0. 0. 0. 0. 0.]\n",
            " [0. 0. 0. 0. 0. 0. 0. 0. 0. 0. 0. 0. 0. 0. 0. 0. 0. 0. 0. 0. 0. 0. 0. 0.\n",
            "  0. 0. 0. 0. 0. 0. 0. 0. 0. 0. 0. 0. 0. 0. 0. 0.]\n",
            " [0. 0. 0. 0. 0. 0. 0. 0. 0. 0. 0. 0. 0. 0. 0. 0. 0. 0. 0. 0. 0. 0. 0. 0.\n",
            "  0. 0. 0. 0. 0. 0. 0. 0. 0. 0. 0. 0. 0. 0. 0. 0.]\n",
            " [0. 0. 0. 0. 0. 0. 0. 0. 0. 0. 0. 0. 0. 0. 0. 0. 0. 0. 0. 0. 0. 0. 0. 0.\n",
            "  0. 0. 0. 0. 0. 0. 0. 0. 0. 0. 0. 0. 0. 0. 0. 0.]\n",
            " [0. 0. 0. 0. 0. 0. 0. 0. 0. 0. 0. 0. 0. 0. 0. 0. 0. 0. 0. 0. 0. 0. 0. 0.\n",
            "  0. 0. 0. 0. 0. 0. 0. 0. 0. 0. 0. 0. 0. 0. 0. 0.]\n",
            " [0. 0. 0. 0. 0. 0. 0. 0. 0. 0. 0. 0. 0. 0. 0. 0. 0. 0. 0. 0. 0. 0. 0. 0.\n",
            "  0. 0. 0. 0. 0. 0. 0. 0. 0. 0. 0. 0. 0. 0. 0. 0.]\n",
            " [0. 0. 0. 0. 0. 0. 0. 0. 0. 0. 0. 0. 0. 0. 0. 0. 0. 0. 0. 0. 0. 0. 0. 0.\n",
            "  0. 0. 0. 0. 0. 0. 0. 0. 0. 0. 0. 0. 0. 0. 0. 0.]\n",
            " [0. 0. 0. 0. 0. 0. 0. 0. 0. 0. 0. 0. 0. 0. 0. 0. 0. 0. 0. 0. 0. 0. 0. 0.\n",
            "  0. 0. 0. 0. 0. 0. 0. 0. 0. 0. 0. 0. 0. 0. 0. 0.]\n",
            " [0. 0. 0. 0. 0. 0. 0. 0. 0. 0. 0. 0. 0. 0. 0. 0. 0. 0. 0. 0. 0. 0. 0. 0.\n",
            "  0. 0. 0. 0. 0. 0. 0. 0. 0. 0. 0. 0. 0. 0. 0. 0.]\n",
            " [0. 0. 0. 0. 0. 0. 0. 0. 0. 0. 0. 0. 0. 0. 0. 0. 0. 0. 0. 0. 0. 0. 0. 0.\n",
            "  0. 0. 0. 0. 0. 0. 0. 0. 0. 0. 0. 0. 0. 0. 0. 0.]\n",
            " [0. 0. 0. 0. 0. 0. 0. 0. 0. 0. 0. 0. 0. 0. 0. 0. 0. 0. 0. 0. 0. 0. 0. 0.\n",
            "  0. 0. 0. 0. 0. 0. 0. 0. 0. 0. 0. 0. 0. 0. 0. 0.]\n",
            " [0. 0. 0. 0. 0. 0. 0. 0. 0. 0. 0. 0. 0. 0. 0. 0. 0. 0. 0. 0. 0. 0. 0. 0.\n",
            "  0. 0. 0. 0. 0. 0. 0. 0. 0. 0. 0. 0. 0. 0. 0. 0.]\n",
            " [0. 0. 0. 0. 0. 0. 0. 0. 0. 0. 0. 0. 0. 0. 0. 0. 0. 0. 0. 0. 0. 0. 0. 0.\n",
            "  0. 0. 0. 0. 0. 0. 0. 0. 0. 0. 0. 0. 0. 0. 0. 0.]\n",
            " [0. 0. 0. 0. 0. 0. 0. 0. 0. 0. 0. 0. 0. 0. 0. 0. 0. 0. 0. 0. 0. 0. 0. 0.\n",
            "  0. 0. 0. 0. 0. 0. 0. 0. 0. 0. 0. 0. 0. 0. 0. 0.]\n",
            " [0. 0. 0. 0. 0. 0. 0. 0. 0. 0. 0. 0. 0. 0. 0. 0. 0. 0. 0. 0. 0. 0. 0. 0.\n",
            "  0. 0. 0. 0. 0. 0. 0. 0. 0. 0. 0. 0. 0. 0. 0. 0.]\n",
            " [0. 0. 0. 0. 0. 0. 0. 0. 0. 0. 0. 0. 0. 0. 0. 0. 0. 0. 0. 0. 0. 0. 0. 0.\n",
            "  0. 0. 0. 0. 0. 0. 0. 0. 0. 0. 0. 0. 0. 0. 0. 0.]\n",
            " [0. 0. 0. 0. 0. 0. 0. 0. 0. 0. 0. 0. 0. 0. 0. 0. 0. 0. 0. 0. 0. 0. 0. 0.\n",
            "  0. 0. 0. 0. 0. 0. 0. 0. 0. 0. 0. 0. 0. 0. 0. 0.]\n",
            " [0. 0. 0. 0. 0. 0. 0. 0. 0. 0. 0. 0. 0. 0. 0. 0. 0. 0. 0. 0. 0. 0. 0. 0.\n",
            "  0. 0. 0. 0. 0. 0. 0. 0. 0. 0. 0. 0. 0. 0. 0. 0.]\n",
            " [0. 0. 0. 0. 0. 0. 0. 0. 0. 0. 0. 0. 0. 0. 0. 0. 0. 0. 0. 0. 0. 0. 0. 0.\n",
            "  0. 0. 0. 0. 0. 0. 0. 0. 0. 0. 0. 0. 0. 0. 0. 0.]\n",
            " [0. 0. 0. 0. 0. 0. 0. 0. 0. 0. 0. 0. 0. 0. 0. 0. 0. 0. 0. 0. 0. 0. 0. 0.\n",
            "  0. 0. 0. 0. 0. 0. 0. 0. 0. 0. 0. 0. 0. 0. 0. 0.]\n",
            " [0. 0. 0. 0. 0. 0. 0. 0. 0. 0. 0. 0. 0. 0. 0. 0. 0. 0. 0. 0. 0. 0. 0. 0.\n",
            "  0. 0. 0. 0. 0. 0. 0. 0. 0. 0. 0. 0. 0. 0. 0. 0.]\n",
            " [0. 0. 0. 0. 0. 0. 0. 0. 0. 0. 0. 0. 0. 0. 0. 0. 0. 0. 0. 0. 0. 0. 0. 0.\n",
            "  0. 0. 0. 0. 0. 0. 0. 0. 0. 0. 0. 0. 0. 0. 0. 0.]\n",
            " [0. 0. 0. 0. 0. 0. 0. 0. 0. 0. 0. 0. 0. 0. 0. 0. 0. 0. 0. 0. 0. 0. 0. 0.\n",
            "  0. 0. 0. 0. 0. 0. 0. 0. 0. 0. 0. 0. 0. 0. 0. 0.]\n",
            " [0. 0. 0. 0. 0. 0. 0. 0. 0. 0. 0. 0. 0. 0. 0. 0. 0. 0. 0. 0. 0. 0. 0. 0.\n",
            "  0. 0. 0. 0. 0. 0. 0. 0. 0. 0. 0. 0. 0. 0. 0. 0.]\n",
            " [0. 0. 0. 0. 0. 0. 0. 0. 0. 0. 0. 0. 0. 0. 0. 0. 0. 0. 0. 0. 0. 0. 0. 0.\n",
            "  0. 0. 0. 0. 0. 0. 0. 0. 0. 0. 0. 0. 0. 0. 0. 0.]\n",
            " [0. 0. 0. 0. 0. 0. 0. 0. 0. 0. 0. 0. 0. 0. 0. 0. 0. 0. 0. 0. 0. 0. 0. 0.\n",
            "  0. 0. 0. 0. 0. 0. 0. 0. 0. 0. 0. 0. 0. 0. 0. 0.]\n",
            " [0. 0. 0. 0. 0. 0. 0. 0. 0. 0. 0. 0. 0. 0. 0. 0. 0. 0. 0. 0. 0. 0. 0. 0.\n",
            "  0. 0. 0. 0. 0. 0. 0. 0. 0. 0. 0. 0. 0. 0. 0. 0.]\n",
            " [0. 0. 0. 0. 0. 0. 0. 0. 0. 0. 0. 0. 0. 0. 0. 0. 0. 0. 0. 0. 0. 0. 0. 0.\n",
            "  0. 0. 0. 0. 0. 0. 0. 0. 0. 0. 0. 0. 0. 0. 0. 0.]\n",
            " [0. 0. 0. 0. 0. 0. 0. 0. 0. 0. 0. 0. 0. 0. 0. 0. 0. 0. 0. 0. 0. 0. 0. 0.\n",
            "  0. 0. 0. 0. 0. 0. 0. 0. 0. 0. 0. 0. 0. 0. 0. 0.]\n",
            " [0. 0. 0. 0. 0. 0. 0. 0. 0. 0. 0. 0. 0. 0. 0. 0. 0. 0. 0. 0. 0. 0. 0. 0.\n",
            "  0. 0. 0. 0. 0. 0. 0. 0. 0. 0. 0. 0. 0. 0. 0. 0.]\n",
            " [0. 0. 0. 0. 0. 0. 0. 0. 0. 0. 0. 0. 0. 0. 0. 0. 0. 0. 0. 0. 0. 0. 0. 0.\n",
            "  0. 0. 0. 0. 0. 0. 0. 0. 0. 0. 0. 0. 0. 0. 0. 0.]\n",
            " [0. 0. 0. 0. 0. 0. 0. 0. 0. 0. 0. 0. 0. 0. 0. 0. 0. 0. 0. 0. 0. 0. 0. 0.\n",
            "  0. 0. 0. 0. 0. 0. 0. 0. 0. 0. 0. 0. 0. 0. 0. 0.]\n",
            " [0. 0. 0. 0. 0. 0. 0. 0. 0. 0. 0. 0. 0. 0. 0. 0. 0. 0. 0. 0. 0. 0. 0. 0.\n",
            "  0. 0. 0. 0. 0. 0. 0. 0. 0. 0. 0. 0. 0. 0. 0. 0.]\n",
            " [0. 0. 0. 0. 0. 0. 0. 0. 0. 0. 0. 0. 0. 0. 0. 0. 0. 0. 0. 0. 0. 0. 0. 0.\n",
            "  0. 0. 0. 0. 0. 0. 0. 0. 0. 0. 0. 0. 0. 0. 0. 0.]\n",
            " [0. 0. 0. 0. 0. 0. 0. 0. 0. 0. 0. 0. 0. 0. 0. 0. 0. 0. 0. 0. 0. 0. 0. 0.\n",
            "  0. 0. 0. 0. 0. 0. 0. 0. 0. 0. 0. 0. 0. 0. 0. 0.]\n",
            " [0. 0. 0. 0. 0. 0. 0. 0. 0. 0. 0. 0. 0. 0. 0. 0. 0. 0. 0. 0. 0. 0. 0. 0.\n",
            "  0. 0. 0. 0. 0. 0. 0. 0. 0. 0. 0. 0. 0. 0. 0. 0.]\n",
            " [0. 0. 0. 0. 0. 0. 0. 0. 0. 0. 0. 0. 0. 0. 0. 0. 0. 0. 0. 0. 0. 0. 0. 0.\n",
            "  0. 0. 0. 0. 0. 0. 0. 0. 0. 0. 0. 0. 0. 0. 0. 0.]\n",
            " [0. 0. 0. 0. 0. 0. 0. 0. 0. 0. 0. 0. 0. 0. 0. 0. 0. 0. 0. 0. 0. 0. 0. 0.\n",
            "  0. 0. 0. 0. 0. 0. 0. 0. 0. 0. 0. 0. 0. 0. 0. 0.]]\n"
          ]
        }
      ]
    },
    {
      "cell_type": "code",
      "source": [
        "#50. How to find the closest value (to a given scalar) in a vector? (★★☆)\n",
        "#(hint: argmin)\n",
        "arr50 = np.arange(100)\n",
        "v = np.random.uniform(0,100)\n",
        "index = (np.abs(arr50-v)).argmin()\n",
        "print(arr50[index])"
      ],
      "metadata": {
        "colab": {
          "base_uri": "https://localhost:8080/"
        },
        "id": "NxuBoRZPtQgb",
        "outputId": "35a1508a-cfc3-4f39-c778-e6d8d783917e"
      },
      "execution_count": null,
      "outputs": [
        {
          "output_type": "stream",
          "name": "stdout",
          "text": [
            "11\n"
          ]
        }
      ]
    },
    {
      "cell_type": "code",
      "source": [
        "#51. Create a structured array representing a position (x,y) and a color (r,g,b) (★★☆)\n",
        "#(hint: dtype)\n",
        "arr51 = np.zeros(10, [ ('position', [ ('x', float, 1),\n",
        "                                  ('y', float, 1)]),\n",
        "                   ('color',    [ ('r', float, 1),\n",
        "                                  ('g', float, 1),\n",
        "                                  ('b', float, 1)])])\n",
        "print(arr51)"
      ],
      "metadata": {
        "colab": {
          "base_uri": "https://localhost:8080/"
        },
        "id": "ZTYFA5x6teY_",
        "outputId": "4c58ffe1-71b0-480b-e67f-5ddf48a076b8"
      },
      "execution_count": null,
      "outputs": [
        {
          "output_type": "stream",
          "name": "stdout",
          "text": [
            "[((0., 0.), (0., 0., 0.)) ((0., 0.), (0., 0., 0.))\n",
            " ((0., 0.), (0., 0., 0.)) ((0., 0.), (0., 0., 0.))\n",
            " ((0., 0.), (0., 0., 0.)) ((0., 0.), (0., 0., 0.))\n",
            " ((0., 0.), (0., 0., 0.)) ((0., 0.), (0., 0., 0.))\n",
            " ((0., 0.), (0., 0., 0.)) ((0., 0.), (0., 0., 0.))]\n"
          ]
        },
        {
          "output_type": "stream",
          "name": "stderr",
          "text": [
            "/usr/local/lib/python3.7/dist-packages/ipykernel_launcher.py:7: FutureWarning: Passing (type, 1) or '1type' as a synonym of type is deprecated; in a future version of numpy, it will be understood as (type, (1,)) / '(1,)type'.\n",
            "  import sys\n"
          ]
        }
      ]
    },
    {
      "cell_type": "code",
      "source": [
        "#52. Consider a random vector with shape (100,2) representing coordinates, find point by point distances (★★☆)\n",
        "#(hint: np.atleast_2d, T, np.sqrt)\n",
        "arr52 = np.random.random((10,2))\n",
        "X,Y = np.atleast_2d(arr52[:,0], arr52[:,1])\n",
        "D = np.sqrt( (X-X.T)**2 + (Y-Y.T)**2)\n",
        "print(D)"
      ],
      "metadata": {
        "id": "xJ2ogiKKttiH"
      },
      "execution_count": null,
      "outputs": []
    },
    {
      "cell_type": "code",
      "source": [
        "# another way with scipy\n",
        "import scipy\n",
        "\n",
        "import scipy.spatial\n",
        "\n",
        "arr52 = np.random.random((10,2))\n",
        "D = scipy.spatial.distance.cdist(arr52,arr52)\n",
        "print(D)"
      ],
      "metadata": {
        "colab": {
          "base_uri": "https://localhost:8080/"
        },
        "id": "HZU37lzouEhL",
        "outputId": "b33b7db1-3d43-4c92-c6b0-e50f33f8d1b3"
      },
      "execution_count": null,
      "outputs": [
        {
          "output_type": "stream",
          "name": "stdout",
          "text": [
            "[[0.         0.33021003 0.93500228 0.9147575  0.51091224 0.62109535\n",
            "  0.16076333 1.07867476 0.69477366 0.6446068 ]\n",
            " [0.33021003 0.         0.7482383  1.04915318 0.18076092 0.65148119\n",
            "  0.39056365 0.90934077 0.40347776 0.55481393]\n",
            " [0.93500228 0.7482383  0.         0.89902526 0.69856318 0.53896061\n",
            "  0.84768847 0.16441513 0.43401593 0.3372661 ]\n",
            " [0.9147575  1.04915318 0.89902526 0.         1.16086175 0.43645625\n",
            "  0.75482261 0.910391   1.08996194 0.65203587]\n",
            " [0.51091224 0.18076092 0.69856318 1.16086175 0.         0.73819377\n",
            "  0.56214742 0.86295421 0.28795214 0.58956216]\n",
            " [0.62109535 0.65148119 0.53896061 0.43645625 0.73819377 0.\n",
            "  0.47254985 0.61292141 0.6543757  0.22885987]\n",
            " [0.16076333 0.39056365 0.84768847 0.75482261 0.56214742 0.47254985\n",
            "  0.         0.97911654 0.68197123 0.53198549]\n",
            " [1.07867476 0.90934077 0.16441513 0.910391   0.86295421 0.61292141\n",
            "  0.97911654 0.         0.5953933  0.44985016]\n",
            " [0.69477366 0.40347776 0.43401593 1.08996194 0.28795214 0.6543757\n",
            "  0.68197123 0.5953933  0.         0.44521792]\n",
            " [0.6446068  0.55481393 0.3372661  0.65203587 0.58956216 0.22885987\n",
            "  0.53198549 0.44985016 0.44521792 0.        ]]\n"
          ]
        }
      ]
    },
    {
      "cell_type": "code",
      "source": [
        "#53. How to convert a float (32 bits) array into an integer (32 bits) in place?\n",
        "#(hint: astype(copy=False))\n",
        "arr53 = (np.random.rand(10)*100).astype(np.float32)\n",
        "Y = arr53.view(np.int32)\n",
        "Y[:] = arr53\n",
        "print(Y)"
      ],
      "metadata": {
        "colab": {
          "base_uri": "https://localhost:8080/"
        },
        "id": "geDFxSpYt6RO",
        "outputId": "ee927abe-2809-4e4e-b319-9fa4ccb901cf"
      },
      "execution_count": null,
      "outputs": [
        {
          "output_type": "stream",
          "name": "stdout",
          "text": [
            "[38 10 38 32 42 99 61 51 33 83]\n"
          ]
        }
      ]
    },
    {
      "cell_type": "code",
      "source": [
        "#54. How to read the following file? (★★☆)\n",
        "#(hint: np.genfromtxt)\n",
        "\"\"\" 1, 2, 3, 4, 5\n",
        "    6,  ,  , 7, 8\n",
        "     ,  , 9,10,11 \"\"\"\n",
        "from io import StringIO\n",
        "s = StringIO('''1, 2, 3, 4, 5\n",
        "                6,  ,  , 7, 8\n",
        "                 ,  , 9,10,11\n",
        "''')\n",
        "arr54 = np.genfromtxt(s, delimiter=\",\", dtype=np.int)\n",
        "print(arr54)"
      ],
      "metadata": {
        "colab": {
          "base_uri": "https://localhost:8080/"
        },
        "id": "2pv0vTasujTB",
        "outputId": "fb92cd1e-e55c-4922-f29e-3732bfb488d2"
      },
      "execution_count": null,
      "outputs": [
        {
          "output_type": "stream",
          "name": "stdout",
          "text": [
            "[[ 1  2  3  4  5]\n",
            " [ 6 -1 -1  7  8]\n",
            " [-1 -1  9 10 11]]\n"
          ]
        },
        {
          "output_type": "stream",
          "name": "stderr",
          "text": [
            "/usr/local/lib/python3.7/dist-packages/ipykernel_launcher.py:11: DeprecationWarning: `np.int` is a deprecated alias for the builtin `int`. To silence this warning, use `int` by itself. Doing this will not modify any behavior and is safe. When replacing `np.int`, you may wish to use e.g. `np.int64` or `np.int32` to specify the precision. If you wish to review your current use, check the release note link for additional information.\n",
            "Deprecated in NumPy 1.20; for more details and guidance: https://numpy.org/devdocs/release/1.20.0-notes.html#deprecations\n",
            "  # This is added back by InteractiveShellApp.init_path()\n"
          ]
        }
      ]
    },
    {
      "cell_type": "code",
      "source": [
        "#55. What is the equivalent of enumerate for numpy arrays? (★★☆)\n",
        "#(hint: np.ndenumerate, np.ndindex)\n",
        "arr55 = np.arange(9).reshape(3,3)\n",
        "for index, value in np.ndenumerate(arr55):\n",
        "    print(index, value)\n",
        "for index in np.ndindex(arr55.shape):\n",
        "    print(index, arr55[index])"
      ],
      "metadata": {
        "colab": {
          "base_uri": "https://localhost:8080/"
        },
        "id": "vJ_c2hyBvZhb",
        "outputId": "0e62b25d-5a7d-44de-d8c3-cacf01a66e72"
      },
      "execution_count": null,
      "outputs": [
        {
          "output_type": "stream",
          "name": "stdout",
          "text": [
            "(0, 0) 0\n",
            "(0, 1) 1\n",
            "(0, 2) 2\n",
            "(1, 0) 3\n",
            "(1, 1) 4\n",
            "(1, 2) 5\n",
            "(2, 0) 6\n",
            "(2, 1) 7\n",
            "(2, 2) 8\n",
            "(0, 0) 0\n",
            "(0, 1) 1\n",
            "(0, 2) 2\n",
            "(1, 0) 3\n",
            "(1, 1) 4\n",
            "(1, 2) 5\n",
            "(2, 0) 6\n",
            "(2, 1) 7\n",
            "(2, 2) 8\n"
          ]
        }
      ]
    },
    {
      "cell_type": "code",
      "source": [
        "#56. Generate a generic 2D Gaussian-like array (★★☆)\n",
        "#(hint: np.meshgrid, np.exp)\n",
        "X, Y = np.meshgrid(np.linspace(-1,1,10), np.linspace(-1,1,10))\n",
        "D = np.sqrt(X*X+Y*Y)\n",
        "sigma, mu = 1.0, 0.0\n",
        "G = np.exp(-( (D-mu)**2 / ( 2.0 * sigma**2 ) ) )\n",
        "print(G)"
      ],
      "metadata": {
        "colab": {
          "base_uri": "https://localhost:8080/"
        },
        "id": "J0-zTJGtvqNs",
        "outputId": "b63abe20-9438-442e-a2e6-b098f24ff3a6"
      },
      "execution_count": null,
      "outputs": [
        {
          "output_type": "stream",
          "name": "stdout",
          "text": [
            "[[0.36787944 0.44822088 0.51979489 0.57375342 0.60279818 0.60279818\n",
            "  0.57375342 0.51979489 0.44822088 0.36787944]\n",
            " [0.44822088 0.54610814 0.63331324 0.69905581 0.73444367 0.73444367\n",
            "  0.69905581 0.63331324 0.54610814 0.44822088]\n",
            " [0.51979489 0.63331324 0.73444367 0.81068432 0.85172308 0.85172308\n",
            "  0.81068432 0.73444367 0.63331324 0.51979489]\n",
            " [0.57375342 0.69905581 0.81068432 0.89483932 0.9401382  0.9401382\n",
            "  0.89483932 0.81068432 0.69905581 0.57375342]\n",
            " [0.60279818 0.73444367 0.85172308 0.9401382  0.98773022 0.98773022\n",
            "  0.9401382  0.85172308 0.73444367 0.60279818]\n",
            " [0.60279818 0.73444367 0.85172308 0.9401382  0.98773022 0.98773022\n",
            "  0.9401382  0.85172308 0.73444367 0.60279818]\n",
            " [0.57375342 0.69905581 0.81068432 0.89483932 0.9401382  0.9401382\n",
            "  0.89483932 0.81068432 0.69905581 0.57375342]\n",
            " [0.51979489 0.63331324 0.73444367 0.81068432 0.85172308 0.85172308\n",
            "  0.81068432 0.73444367 0.63331324 0.51979489]\n",
            " [0.44822088 0.54610814 0.63331324 0.69905581 0.73444367 0.73444367\n",
            "  0.69905581 0.63331324 0.54610814 0.44822088]\n",
            " [0.36787944 0.44822088 0.51979489 0.57375342 0.60279818 0.60279818\n",
            "  0.57375342 0.51979489 0.44822088 0.36787944]]\n"
          ]
        }
      ]
    },
    {
      "cell_type": "code",
      "source": [
        "#57. How to randomly place p elements in a 2D array? (★★☆)\n",
        "#(hint: np.put, np.random.choice)\n",
        "n = 10\n",
        "p = 3\n",
        "arr57 = np.zeros((n,n))\n",
        "np.put(arr57, np.random.choice(range(n*n), p, replace=False),1)\n",
        "print(arr57)"
      ],
      "metadata": {
        "colab": {
          "base_uri": "https://localhost:8080/"
        },
        "id": "C6SrCGfJvzl5",
        "outputId": "7ec98c6a-5a3e-4f86-9553-2c3662465038"
      },
      "execution_count": null,
      "outputs": [
        {
          "output_type": "stream",
          "name": "stdout",
          "text": [
            "[[0. 0. 0. 0. 1. 0. 0. 0. 0. 0.]\n",
            " [0. 0. 0. 0. 0. 0. 0. 0. 0. 0.]\n",
            " [0. 0. 0. 0. 0. 0. 0. 0. 0. 0.]\n",
            " [0. 0. 0. 0. 0. 0. 0. 0. 0. 0.]\n",
            " [0. 0. 0. 0. 0. 0. 0. 0. 1. 0.]\n",
            " [0. 0. 0. 0. 0. 0. 0. 0. 0. 0.]\n",
            " [0. 0. 0. 0. 0. 0. 0. 0. 0. 0.]\n",
            " [0. 0. 0. 0. 0. 0. 0. 0. 0. 0.]\n",
            " [0. 0. 1. 0. 0. 0. 0. 0. 0. 0.]\n",
            " [0. 0. 0. 0. 0. 0. 0. 0. 0. 0.]]\n"
          ]
        }
      ]
    },
    {
      "cell_type": "code",
      "source": [
        "#58. Subtract the mean of each row of a matrix (★★☆)\n",
        "#(hint: mean(axis=,keepdims=))\n",
        "X = np.random.rand(5, 10)\n",
        "Y = X - X.mean(axis=1, keepdims=True)\n",
        "Y"
      ],
      "metadata": {
        "colab": {
          "base_uri": "https://localhost:8080/"
        },
        "id": "BC-CgtwdwLep",
        "outputId": "5f7ba578-3902-4d8c-deaf-bb99ef2196f3"
      },
      "execution_count": null,
      "outputs": [
        {
          "output_type": "execute_result",
          "data": {
            "text/plain": [
              "array([[ 0.43526484, -0.36651052, -0.33220364,  0.48092258,  0.47204824,\n",
              "         0.2596875 , -0.39395752,  0.01573891, -0.12737907, -0.44361132],\n",
              "       [-0.17107786, -0.37901215, -0.09813451,  0.09887733,  0.37708746,\n",
              "         0.29399419,  0.00487107,  0.24976682, -0.08007428, -0.29629806],\n",
              "       [ 0.09089237,  0.36975417, -0.38255897,  0.40763454, -0.28018704,\n",
              "         0.06343826, -0.50515754,  0.42389584, -0.14573425, -0.04197738],\n",
              "       [-0.02375678, -0.42941358,  0.44613459,  0.0679272 , -0.22772922,\n",
              "         0.01653819, -0.42214898,  0.063335  ,  0.03202143,  0.47709216],\n",
              "       [-0.278345  , -0.22211307,  0.084715  ,  0.58330582,  0.35904953,\n",
              "        -0.17206501,  0.43811807, -0.29384688, -0.35063819, -0.14818028]])"
            ]
          },
          "metadata": {},
          "execution_count": 23
        }
      ]
    },
    {
      "cell_type": "code",
      "source": [
        "#59. How to sort an array by the nth column? (★★☆)\n",
        "#(hint: argsort)\n",
        "arr59 = np.random.randint(0,10,(3,3))\n",
        "print(arr59)\n",
        "print(arr59[arr59[:,1].argsort()])"
      ],
      "metadata": {
        "colab": {
          "base_uri": "https://localhost:8080/"
        },
        "id": "mEO7I7dvwpld",
        "outputId": "85c6c103-d4ce-4a0e-ee02-66147d6662dc"
      },
      "execution_count": null,
      "outputs": [
        {
          "output_type": "stream",
          "name": "stdout",
          "text": [
            "[[1 3 4]\n",
            " [4 2 5]\n",
            " [2 7 1]]\n",
            "[[4 2 5]\n",
            " [1 3 4]\n",
            " [2 7 1]]\n"
          ]
        }
      ]
    },
    {
      "cell_type": "code",
      "source": [
        "#60. How to tell if a given 2D array has null columns? (★★☆)\n",
        "#(hint: any, ~)\n",
        "arr60 = np.random.randint(0,3,(3,10))\n",
        "(~arr60.any(axis=0)).any()\n"
      ],
      "metadata": {
        "colab": {
          "base_uri": "https://localhost:8080/"
        },
        "id": "0vbZSOJIw7Gs",
        "outputId": "b0a293ec-350d-497e-9af8-67b8cd1e7bf2"
      },
      "execution_count": null,
      "outputs": [
        {
          "output_type": "execute_result",
          "data": {
            "text/plain": [
              "False"
            ]
          },
          "metadata": {},
          "execution_count": 31
        }
      ]
    },
    {
      "cell_type": "code",
      "source": [
        "#61. Find the nearest value from a given value in an array (★★☆)\n",
        "#(hint: np.abs, argmin, flat)\n",
        "arr61 = np.random.uniform(0,1,10)\n",
        "r = 0.5\n",
        "m = arr61.flat[np.abs(arr61 - r).argmin()]\n",
        "print(m)"
      ],
      "metadata": {
        "colab": {
          "base_uri": "https://localhost:8080/"
        },
        "id": "rbMGqJssyk6L",
        "outputId": "82a702a3-0a02-426e-c9d6-547cc0a72282"
      },
      "execution_count": null,
      "outputs": [
        {
          "output_type": "stream",
          "name": "stdout",
          "text": [
            "0.5480458667032035\n"
          ]
        }
      ]
    },
    {
      "cell_type": "code",
      "source": [
        "#62. Considering two arrays with shape (1,3) and (3,1), how to compute their sum using an iterator? (★★☆)\n",
        "#(hint: np.nditer)\n",
        "A = np.arange(3).reshape(3,1)\n",
        "B = np.arange(3).reshape(1,3)\n",
        "it = np.nditer([A,B,None])\n",
        "for x,y,z in it:\n",
        "  z[...] = x + y\n",
        "print(it.operands[2])"
      ],
      "metadata": {
        "colab": {
          "base_uri": "https://localhost:8080/"
        },
        "id": "jz7dDnmcwV-w",
        "outputId": "3f6bb558-3caa-47cd-a672-728c549a4318"
      },
      "execution_count": null,
      "outputs": [
        {
          "output_type": "stream",
          "name": "stdout",
          "text": [
            "[[0 1 2]\n",
            " [1 2 3]\n",
            " [2 3 4]]\n"
          ]
        }
      ]
    },
    {
      "cell_type": "code",
      "source": [
        "#63. Create an array class that has a name attribute (★★☆)\n",
        "#(hint: class method)\n",
        "class NamedArray(np.ndarray):\n",
        "    def __new__(cls, array, name=\"no name\"):\n",
        "        obj = np.asarray(array).view(cls)\n",
        "        obj.name = name\n",
        "        return obj\n",
        "    def __array_finalize__(self, obj):\n",
        "        if obj is None: return\n",
        "        self.info = getattr(obj, 'name', \"no name\")\n",
        "\n",
        "Z = NamedArray(np.arange(10), \"range_10\")\n",
        "print (Z.name)"
      ],
      "metadata": {
        "colab": {
          "base_uri": "https://localhost:8080/"
        },
        "id": "6ohKvgQDzMqy",
        "outputId": "70b68983-0644-4d87-a6e9-7bbb8a550ae3"
      },
      "execution_count": null,
      "outputs": [
        {
          "output_type": "stream",
          "name": "stdout",
          "text": [
            "range_10\n"
          ]
        }
      ]
    },
    {
      "cell_type": "code",
      "source": [
        "#64. Consider a given vector, how to add 1 to each element indexed by a second vector (be careful with repeated indices)? (★★★)\n",
        "#(hint: np.bincount | np.add.at)\n",
        "Z = np.ones(10)\n",
        "I = np.random.randint(0,len(Z),20)\n",
        "Z += np.bincount(I, minlength=len(Z))\n",
        "print(Z)"
      ],
      "metadata": {
        "colab": {
          "base_uri": "https://localhost:8080/"
        },
        "id": "gzdcu46jzeuQ",
        "outputId": "20d40229-3ddf-465f-8e37-6b3f7b8d0e71"
      },
      "execution_count": null,
      "outputs": [
        {
          "output_type": "stream",
          "name": "stdout",
          "text": [
            "[2. 1. 3. 4. 2. 5. 5. 4. 1. 3.]\n"
          ]
        }
      ]
    },
    {
      "cell_type": "code",
      "source": [
        "#65. How to accumulate elements of a vector (X) to an array (F) based on an index list (I)? (★★★)\n",
        "#(hint: np.bincount)\n",
        "X = [1,2,3,4,5,6]\n",
        "I = [1,3,9,3,4,1]\n",
        "F = np.bincount(I,X)\n",
        "print(F)"
      ],
      "metadata": {
        "colab": {
          "base_uri": "https://localhost:8080/"
        },
        "id": "1NZ9kZm2zv-b",
        "outputId": "9409a986-4ca3-41e6-b7f6-4887bdbd341e"
      },
      "execution_count": null,
      "outputs": [
        {
          "output_type": "stream",
          "name": "stdout",
          "text": [
            "[0. 7. 0. 6. 5. 0. 0. 0. 0. 3.]\n"
          ]
        }
      ]
    },
    {
      "cell_type": "code",
      "source": [
        "#66. Considering a (w,h,3) image of (dtype=ubyte), compute the number of unique colors (★★★)\n",
        "#(hint: np.unique)\n",
        "w, h = 256, 256\n",
        "I = np.random.randint(0, 4, (h, w, 3)).astype(np.ubyte)\n",
        "colors = np.unique(I.reshape(-1, 3), axis=0)\n",
        "n = len(colors)\n",
        "print(n)"
      ],
      "metadata": {
        "colab": {
          "base_uri": "https://localhost:8080/"
        },
        "id": "VlpB2JV7z8IX",
        "outputId": "d45d1c81-3dc4-4aef-aad9-e8e91c3eeaec"
      },
      "execution_count": null,
      "outputs": [
        {
          "output_type": "stream",
          "name": "stdout",
          "text": [
            "64\n"
          ]
        }
      ]
    },
    {
      "cell_type": "code",
      "source": [
        "#67. Considering a four dimensions array, how to get sum over the last two axis at once? (★★★)\n",
        "#(hint: sum(axis=(-2,-1)))\n",
        "A = np.random.randint(0,10,(3,4,3,4))\n",
        "sum = A.sum(axis=(-2,-1))\n",
        "print(sum)"
      ],
      "metadata": {
        "colab": {
          "base_uri": "https://localhost:8080/"
        },
        "id": "gP0lTOox0Gfp",
        "outputId": "727ce461-ac4f-4046-8215-902572bbd84e"
      },
      "execution_count": null,
      "outputs": [
        {
          "output_type": "stream",
          "name": "stdout",
          "text": [
            "[[40 55 43 39]\n",
            " [51 50 57 59]\n",
            " [53 52 48 41]]\n"
          ]
        }
      ]
    },
    {
      "cell_type": "code",
      "source": [
        "#68. Considering a one-dimensional vector D, how to compute means of subsets of D using a vector S of same size describing subset indices? (★★★)\n",
        "#(hint: np.bincount)\n",
        "D = np.random.uniform(0,1,100)\n",
        "S = np.random.randint(0,10,100)\n",
        "D_sums = np.bincount(S, weights=D)\n",
        "D_counts = np.bincount(S)\n",
        "D_means = D_sums / D_counts\n",
        "print(D_means)"
      ],
      "metadata": {
        "colab": {
          "base_uri": "https://localhost:8080/"
        },
        "id": "ZG13jyA40VOY",
        "outputId": "5b9451ba-3734-444a-fb2f-250e0dcd41e9"
      },
      "execution_count": null,
      "outputs": [
        {
          "output_type": "stream",
          "name": "stdout",
          "text": [
            "[0.4061093  0.33741156 0.52407785 0.32729051 0.35060643 0.39688784\n",
            " 0.43875641 0.4605268  0.48715959 0.54024416]\n"
          ]
        }
      ]
    },
    {
      "cell_type": "code",
      "source": [
        "#69. How to get the diagonal of a dot product? (★★★)\n",
        "#(hint: np.diag)\n",
        "A = np.random.uniform(0,1,(5,5))\n",
        "B = np.random.uniform(0,1,(5,5))\n",
        "np.diag(np.dot(A, B))"
      ],
      "metadata": {
        "colab": {
          "base_uri": "https://localhost:8080/"
        },
        "id": "rAtdsVEe0fzB",
        "outputId": "31028af7-30af-4b16-e458-f3c0f2db86db"
      },
      "execution_count": null,
      "outputs": [
        {
          "output_type": "execute_result",
          "data": {
            "text/plain": [
              "array([1.2572244 , 1.32734119, 1.73733668, 1.34928824, 1.58765891])"
            ]
          },
          "metadata": {},
          "execution_count": 43
        }
      ]
    },
    {
      "cell_type": "code",
      "source": [
        "#70. Consider the vector [1, 2, 3, 4, 5], how to build a new vector with 3 consecutive zeros interleaved between each value? (★★★)\n",
        "#(hint: array[::4])\n",
        "Z = np.array([1,2,3,4,5])\n",
        "nz = 3\n",
        "Z0 = np.zeros(len(Z) + (len(Z)-1)*(nz))\n",
        "Z0[::nz+1] = Z\n",
        "print(Z0)"
      ],
      "metadata": {
        "colab": {
          "base_uri": "https://localhost:8080/"
        },
        "id": "5FhnQ8tT0pZX",
        "outputId": "d4fd91a7-eeb5-4686-c69a-c9ba86720ef0"
      },
      "execution_count": null,
      "outputs": [
        {
          "output_type": "stream",
          "name": "stdout",
          "text": [
            "[1. 0. 0. 0. 2. 0. 0. 0. 3. 0. 0. 0. 4. 0. 0. 0. 5.]\n"
          ]
        }
      ]
    },
    {
      "cell_type": "code",
      "source": [
        "#71. Consider an array of dimension (5,5,3), how to mulitply it by an array with dimensions (5,5)? (★★★)\n",
        "#(hint: array[:, :, None])\n",
        "A = np.ones((5,5,3))\n",
        "B = 2*np.ones((5,5))\n",
        "print(A * B[:,:,None])"
      ],
      "metadata": {
        "colab": {
          "base_uri": "https://localhost:8080/"
        },
        "id": "AJov8NCK01Cw",
        "outputId": "be884c64-2697-4824-cdd2-ecae04085a33"
      },
      "execution_count": null,
      "outputs": [
        {
          "output_type": "stream",
          "name": "stdout",
          "text": [
            "[[[2. 2. 2.]\n",
            "  [2. 2. 2.]\n",
            "  [2. 2. 2.]\n",
            "  [2. 2. 2.]\n",
            "  [2. 2. 2.]]\n",
            "\n",
            " [[2. 2. 2.]\n",
            "  [2. 2. 2.]\n",
            "  [2. 2. 2.]\n",
            "  [2. 2. 2.]\n",
            "  [2. 2. 2.]]\n",
            "\n",
            " [[2. 2. 2.]\n",
            "  [2. 2. 2.]\n",
            "  [2. 2. 2.]\n",
            "  [2. 2. 2.]\n",
            "  [2. 2. 2.]]\n",
            "\n",
            " [[2. 2. 2.]\n",
            "  [2. 2. 2.]\n",
            "  [2. 2. 2.]\n",
            "  [2. 2. 2.]\n",
            "  [2. 2. 2.]]\n",
            "\n",
            " [[2. 2. 2.]\n",
            "  [2. 2. 2.]\n",
            "  [2. 2. 2.]\n",
            "  [2. 2. 2.]\n",
            "  [2. 2. 2.]]]\n"
          ]
        }
      ]
    },
    {
      "cell_type": "code",
      "source": [
        "#72. How to swap two rows of an array? (★★★)\n",
        "#(hint: array[[]] = array[[]])\n",
        "A = np.arange(25).reshape(5,5)\n",
        "A[[0,1]] = A[[1,0]]\n",
        "print(A)\n"
      ],
      "metadata": {
        "colab": {
          "base_uri": "https://localhost:8080/"
        },
        "id": "9gSW2ARn077R",
        "outputId": "10248a51-7954-4ce9-8dae-7324a0c84343"
      },
      "execution_count": null,
      "outputs": [
        {
          "output_type": "stream",
          "name": "stdout",
          "text": [
            "[[ 5  6  7  8  9]\n",
            " [ 0  1  2  3  4]\n",
            " [10 11 12 13 14]\n",
            " [15 16 17 18 19]\n",
            " [20 21 22 23 24]]\n"
          ]
        }
      ]
    },
    {
      "cell_type": "code",
      "source": [
        "#73. Consider a set of 10 triplets describing 10 triangles (with shared vertices), find the set of unique line segments composing all the triangles (★★★)\n",
        "#(hint: repeat, np.roll, np.sort, view, np.unique)\n",
        "faces = np.random.randint(0,100,(10,3))\n",
        "F = np.roll(faces.repeat(2,axis=1),-1,axis=1)\n",
        "F = F.reshape(len(F)*3,2)\n",
        "F = np.sort(F,axis=1)\n",
        "G = F.view( dtype=[('p0',F.dtype),('p1',F.dtype)] )\n",
        "G = np.unique(G)\n",
        "print(G)"
      ],
      "metadata": {
        "colab": {
          "base_uri": "https://localhost:8080/"
        },
        "id": "copAmeEY1nEK",
        "outputId": "dc813934-8bdd-4a82-94be-8614709f73f6"
      },
      "execution_count": null,
      "outputs": [
        {
          "output_type": "stream",
          "name": "stdout",
          "text": [
            "[( 2, 23) ( 2, 68) ( 8, 10) ( 8, 69) (10, 69) (11, 65) (11, 98) (12, 17)\n",
            " (12, 71) (17, 71) (19, 52) (19, 80) (20, 65) (20, 82) (23, 68) (31, 32)\n",
            " (31, 42) (32, 42) (33, 58) (33, 79) (34, 67) (34, 80) (41, 59) (41, 89)\n",
            " (52, 80) (58, 79) (59, 89) (65, 82) (65, 98) (67, 80)]\n"
          ]
        }
      ]
    },
    {
      "cell_type": "code",
      "source": [
        "#74. Given an array C that is a bincount, how to produce an array A such that np.bincount(A) == C? (★★★)\n",
        "#(hint: np.repeat)\n",
        "C = np.bincount([1,1,2,3,4,4,6])\n",
        "A = np.repeat(np.arange(len(C)), C)\n",
        "print(A)"
      ],
      "metadata": {
        "colab": {
          "base_uri": "https://localhost:8080/"
        },
        "id": "s9oJ8rrS1tCT",
        "outputId": "799c202d-99f1-4fc9-86b3-21a5d7df2470"
      },
      "execution_count": null,
      "outputs": [
        {
          "output_type": "stream",
          "name": "stdout",
          "text": [
            "[1 1 2 3 4 4 6]\n"
          ]
        }
      ]
    },
    {
      "cell_type": "code",
      "source": [
        "#75. How to compute averages using a sliding window over an array? (★★★)\n",
        "#(hint: np.cumsum)\n",
        "def moving_average(a, n=3) :\n",
        "    ret = np.cumsum(a, dtype=float)\n",
        "    ret[n:] = ret[n:] - ret[:-n]\n",
        "    return ret[n - 1:] / n\n",
        "Z = np.arange(20)\n",
        "print(moving_average(Z, n=3))\n",
        "from numpy.lib.stride_tricks import sliding_window_view\n",
        "\n",
        "Z = np.arange(20)\n",
        "print(sliding_window_view(Z, window_shape=3).mean(axis=-1))"
      ],
      "metadata": {
        "colab": {
          "base_uri": "https://localhost:8080/"
        },
        "id": "jXqywMPL1y8_",
        "outputId": "0190a4d3-42d1-4dee-f157-267fa550c5b8"
      },
      "execution_count": null,
      "outputs": [
        {
          "output_type": "stream",
          "name": "stdout",
          "text": [
            "[ 1.  2.  3.  4.  5.  6.  7.  8.  9. 10. 11. 12. 13. 14. 15. 16. 17. 18.]\n",
            "[ 1.  2.  3.  4.  5.  6.  7.  8.  9. 10. 11. 12. 13. 14. 15. 16. 17. 18.]\n"
          ]
        }
      ]
    },
    {
      "cell_type": "code",
      "source": [
        "#76. Consider a one-dimensional array Z, build a two-dimensional array whose first row is (Z[0],Z[1],Z[2]) and each subsequent row is shifted by 1 (last row should be (Z[-3],Z[-2],Z[-1]) (★★★)\n",
        "#(hint: from numpy.lib import stride_tricks)\n",
        "from numpy.lib import stride_tricks\n",
        "\n",
        "def rolling(a, window):\n",
        "    shape = (a.size - window + 1, window)\n",
        "    strides = (a.strides[0], a.strides[0])\n",
        "    return stride_tricks.as_strided(a, shape=shape, strides=strides)\n",
        "Z = rolling(np.arange(10), 3)\n",
        "print(Z)"
      ],
      "metadata": {
        "colab": {
          "base_uri": "https://localhost:8080/"
        },
        "id": "gYiDC13W2B2A",
        "outputId": "d72b9b56-77b4-49c8-8f6a-7f0192c1dd00"
      },
      "execution_count": null,
      "outputs": [
        {
          "output_type": "stream",
          "name": "stdout",
          "text": [
            "[[0 1 2]\n",
            " [1 2 3]\n",
            " [2 3 4]\n",
            " [3 4 5]\n",
            " [4 5 6]\n",
            " [5 6 7]\n",
            " [6 7 8]\n",
            " [7 8 9]]\n"
          ]
        }
      ]
    },
    {
      "cell_type": "code",
      "source": [
        "#77. How to negate a boolean, or to change the sign of a float inplace? (★★★)\n",
        "#(hint: np.logical_not, np.negative)\n",
        "Z = np.random.randint(0,2,100)\n",
        "np.logical_not(Z, out=Z)\n",
        "\n",
        "Z = np.random.uniform(-1.0,1.0,100)\n",
        "np.negative(Z, out=Z)"
      ],
      "metadata": {
        "colab": {
          "base_uri": "https://localhost:8080/"
        },
        "id": "hOitkHY92Okq",
        "outputId": "073e557f-bc11-48a3-f995-b8d5863d8f7c"
      },
      "execution_count": null,
      "outputs": [
        {
          "output_type": "execute_result",
          "data": {
            "text/plain": [
              "array([ 0.21233368, -0.45901146,  0.62558068, -0.80916039, -0.84672382,\n",
              "       -0.851215  ,  0.88772366,  0.71321615,  0.68478681, -0.82935862,\n",
              "       -0.32570728, -0.55554245,  0.15390346, -0.00708237, -0.58892054,\n",
              "       -0.55516813, -0.69708183,  0.59630828, -0.80128859, -0.56719087,\n",
              "       -0.26208387, -0.51374968,  0.85375435,  0.7753252 , -0.75219722,\n",
              "        0.13135275,  0.22231302,  0.2546729 ,  0.40444059,  0.35715364,\n",
              "       -0.11318156, -0.13433921, -0.73897303, -0.93438672,  0.46131111,\n",
              "       -0.09057871,  0.68950768, -0.72501281, -0.44802236,  0.78184865,\n",
              "        0.87599711, -0.14397801, -0.40559534, -0.44683325,  0.79159943,\n",
              "        0.39021031,  0.64133335,  0.36628757,  0.26925818,  0.85262812,\n",
              "       -0.48679538, -0.99905837, -0.42865912,  0.65201755,  0.45064368,\n",
              "        0.97598222,  0.0269564 , -0.60568154,  0.53841568,  0.49265408,\n",
              "        0.04970712, -0.57651201, -0.69466788,  0.8519681 , -0.59475183,\n",
              "        0.55810839,  0.59721388,  0.89200327,  0.49761312, -0.74700379,\n",
              "       -0.12103734, -0.52895682, -0.81945752,  0.78175365, -0.75787432,\n",
              "       -0.34466696, -0.96476441,  0.89468999, -0.98057227, -0.16002482,\n",
              "        0.23484272, -0.05946298, -0.45537614, -0.07337299,  0.84887757,\n",
              "        0.89790608, -0.39377837, -0.24224684, -0.09042755,  0.27456368,\n",
              "        0.56191145, -0.92806752, -0.43474361, -0.7568239 ,  0.63092458,\n",
              "        0.33814273, -0.23983663, -0.97665924,  0.04590658,  0.20808764])"
            ]
          },
          "metadata": {},
          "execution_count": 52
        }
      ]
    },
    {
      "cell_type": "code",
      "source": [
        "#78. Consider 2 sets of points P0,P1 describing lines (2d) and a point p, how to compute distance from p to each line i (P0[i],P1[i])? (★★★)\n",
        "def distance(P0, P1, p):\n",
        "    T = P1 - P0\n",
        "    L = (T**2).sum(axis=1)\n",
        "    U = -((P0[:,0]-p[...,0])*T[:,0] + (P0[:,1]-p[...,1])*T[:,1]) / L\n",
        "    U = U.reshape(len(U),1)\n",
        "    D = P0 + U*T - p\n",
        "    return np.sqrt((D**2).sum(axis=1))\n",
        "\n",
        "P0 = np.random.uniform(-10,10,(10,2))\n",
        "P1 = np.random.uniform(-10,10,(10,2))\n",
        "p  = np.random.uniform(-10,10,( 1,2))\n",
        "print(distance(P0, P1, p))"
      ],
      "metadata": {
        "colab": {
          "base_uri": "https://localhost:8080/"
        },
        "id": "J_GvnNFW2dLv",
        "outputId": "4c9abac8-b868-4b3f-d6b3-d98ae3c0ef93"
      },
      "execution_count": null,
      "outputs": [
        {
          "output_type": "stream",
          "name": "stdout",
          "text": [
            "[3.77070774 5.55964825 3.84434087 4.5542567  7.62602364 5.63939391\n",
            " 8.47965888 0.74649253 6.47101723 0.37175377]\n"
          ]
        }
      ]
    },
    {
      "cell_type": "code",
      "source": [
        "#79. Consider 2 sets of points P0,P1 describing lines (2d) and a set of points P, how to compute distance from each point j (P[j]) to each line i (P0[i],P1[i])? (★★★)\n",
        "P0 = np.random.uniform(-10, 10, (10,2))\n",
        "P1 = np.random.uniform(-10,10,(10,2))\n",
        "p = np.random.uniform(-10, 10, (10,2))\n",
        "print(np.array([distance(P0,P1,p_i) for p_i in p]))"
      ],
      "metadata": {
        "colab": {
          "base_uri": "https://localhost:8080/"
        },
        "id": "r7-XBdCi2miC",
        "outputId": "4a2b7c2c-31eb-47f0-8984-779d86993e2f"
      },
      "execution_count": null,
      "outputs": [
        {
          "output_type": "stream",
          "name": "stdout",
          "text": [
            "[[ 0.25683268  0.99701677  4.0171176  10.31622687  4.85535253 11.23392341\n",
            "  10.67282847  0.5496252   7.60399517  8.10393214]\n",
            " [ 8.09562743  4.8897577   0.47280775  7.33593048  1.4583491  12.52726751\n",
            "  13.82696664  4.77681043  6.82560869  7.22376565]\n",
            " [ 2.60140026  2.31990324  8.07336054  6.25173606  0.86370625  6.93602386\n",
            "   6.55497742  2.96059941  3.30756123  3.81287737]\n",
            " [ 7.2756717   7.1892878   5.66231823 14.27198704  9.14358095 11.60321319\n",
            "   9.38359619  6.32764406  9.75032874 10.33574205]\n",
            " [ 2.03949851  1.39115095  9.42926319  8.47667419  3.30669436  6.85015452\n",
            "   5.42207812  0.47108408  4.35810835  4.9184842 ]\n",
            " [ 5.73232229  5.49220879  6.73346657 12.58811266  7.44594171 10.23810764\n",
            "   8.25467634  4.61610654  8.19207911  8.76983859]\n",
            " [ 7.40725382  5.26758774  3.72585472  5.77318153  0.04574154  9.72005537\n",
            "  10.63985963  5.41135853  4.55745825  4.98514976]\n",
            " [ 3.84098158  6.09013152  0.75724072 15.98430689 10.48547415 16.62594414\n",
            "  15.5797934   5.81729098 13.27450487 13.78124909]\n",
            " [ 2.81983366  1.21725287 12.28047371  7.22389052  2.19182569  4.43378061\n",
            "   2.6366103   0.06517239  2.45127068  3.03927059]\n",
            " [ 3.27714889  1.14348626 13.85888782  6.54708734  1.59227581  3.10239617\n",
            "   1.09572827  0.13803827  1.40726596  2.01080707]]\n"
          ]
        }
      ]
    },
    {
      "cell_type": "code",
      "source": [
        "#80. Consider an arbitrary array, write a function that extract a subpart with a fixed shape and centered on a given element (pad with a fill value when necessary) (★★★)\n",
        "#(hint: minimum, maximum)\n",
        "Z = np.random.randint(0,10,(10,10))\n",
        "shape = (5,5)\n",
        "fill  = 0\n",
        "position = (1,1)\n",
        "\n",
        "R = np.ones(shape, dtype=Z.dtype)*fill\n",
        "P  = np.array(list(position)).astype(int)\n",
        "Rs = np.array(list(R.shape)).astype(int)\n",
        "Zs = np.array(list(Z.shape)).astype(int)\n",
        "\n",
        "R_start = np.zeros((len(shape),)).astype(int)\n",
        "R_stop  = np.array(list(shape)).astype(int)\n",
        "Z_start = (P-Rs//2)\n",
        "Z_stop  = (P+Rs//2)+Rs%2\n",
        "\n",
        "R_start = (R_start - np.minimum(Z_start,0)).tolist()\n",
        "Z_start = (np.maximum(Z_start,0)).tolist()\n",
        "R_stop = np.maximum(R_start, (R_stop - np.maximum(Z_stop-Zs,0))).tolist()\n",
        "Z_stop = (np.minimum(Z_stop,Zs)).tolist()\n",
        "\n",
        "r = [slice(start,stop) for start,stop in zip(R_start,R_stop)]\n",
        "z = [slice(start,stop) for start,stop in zip(Z_start,Z_stop)]\n",
        "R[r] = Z[z]\n",
        "print(Z)\n",
        "print(R)"
      ],
      "metadata": {
        "colab": {
          "base_uri": "https://localhost:8080/"
        },
        "id": "YzRJelC72uc2",
        "outputId": "079f9eba-ed5a-4cc0-e1d4-680d1a229b47"
      },
      "execution_count": null,
      "outputs": [
        {
          "output_type": "stream",
          "name": "stdout",
          "text": [
            "[[2 0 4 9 5 9 2 2 2 2]\n",
            " [8 7 3 8 7 6 9 9 5 6]\n",
            " [6 3 2 6 7 9 4 2 7 7]\n",
            " [7 2 0 5 8 4 0 6 9 9]\n",
            " [9 5 8 1 5 9 6 1 7 6]\n",
            " [8 0 8 4 0 2 3 4 8 5]\n",
            " [2 6 7 7 0 9 7 7 8 6]\n",
            " [2 3 0 0 4 0 4 3 7 4]\n",
            " [4 4 1 4 6 7 2 4 8 3]\n",
            " [9 9 2 3 1 2 5 9 0 4]]\n",
            "[[0 0 0 0 0]\n",
            " [0 2 0 4 9]\n",
            " [0 8 7 3 8]\n",
            " [0 6 3 2 6]\n",
            " [0 7 2 0 5]]\n"
          ]
        },
        {
          "output_type": "stream",
          "name": "stderr",
          "text": [
            "/usr/local/lib/python3.7/dist-packages/ipykernel_launcher.py:25: FutureWarning: Using a non-tuple sequence for multidimensional indexing is deprecated; use `arr[tuple(seq)]` instead of `arr[seq]`. In the future this will be interpreted as an array index, `arr[np.array(seq)]`, which will result either in an error or a different result.\n"
          ]
        }
      ]
    },
    {
      "cell_type": "code",
      "source": [
        "#81. Consider an array Z = [1,2,3,4,5,6,7,8,9,10,11,12,13,14], how to generate an array R = [[1,2,3,4], [2,3,4,5], [3,4,5,6], ..., [11,12,13,14]]? (★★★)\n",
        "#(hint: stride_tricks.as_strided)\n",
        "Z = np.arange(1,15,dtype=np.uint32)\n",
        "R = stride_tricks.as_strided(Z,(11,4),(4,4))\n",
        "print(R)"
      ],
      "metadata": {
        "colab": {
          "base_uri": "https://localhost:8080/"
        },
        "id": "P3CLFg0g28Wz",
        "outputId": "65f915e6-c9cc-4c33-de75-c3f7ac02223f"
      },
      "execution_count": null,
      "outputs": [
        {
          "output_type": "stream",
          "name": "stdout",
          "text": [
            "[[ 1  2  3  4]\n",
            " [ 2  3  4  5]\n",
            " [ 3  4  5  6]\n",
            " [ 4  5  6  7]\n",
            " [ 5  6  7  8]\n",
            " [ 6  7  8  9]\n",
            " [ 7  8  9 10]\n",
            " [ 8  9 10 11]\n",
            " [ 9 10 11 12]\n",
            " [10 11 12 13]\n",
            " [11 12 13 14]]\n"
          ]
        }
      ]
    },
    {
      "cell_type": "code",
      "source": [
        "#82. Compute a matrix rank (★★★)\n",
        "#(hint: np.linalg.svd) (suggestion: np.linalg.svd)\n",
        "Z = np.random.uniform(0,1,(10,10))\n",
        "U, S, V = np.linalg.svd(Z) # Singular Value Decomposition\n",
        "rank = np.sum(S > 1e-10)\n",
        "print(rank)"
      ],
      "metadata": {
        "colab": {
          "base_uri": "https://localhost:8080/"
        },
        "id": "9yIvyd5w3GmH",
        "outputId": "872f10ca-2692-41c8-e899-3e1c8d1d2c97"
      },
      "execution_count": null,
      "outputs": [
        {
          "output_type": "stream",
          "name": "stdout",
          "text": [
            "10\n"
          ]
        }
      ]
    },
    {
      "cell_type": "code",
      "source": [
        "#83. How to find the most frequent value in an array?\n",
        "#(hint: np.bincount, argmax)\n",
        "Z = np.random.randint(0,10,50)\n",
        "print(np.bincount(Z).argmax())"
      ],
      "metadata": {
        "colab": {
          "base_uri": "https://localhost:8080/"
        },
        "id": "WDmsIICP3Oua",
        "outputId": "fc3bb392-55b6-4345-a8b7-4c9dbcdfb19e"
      },
      "execution_count": null,
      "outputs": [
        {
          "output_type": "stream",
          "name": "stdout",
          "text": [
            "2\n"
          ]
        }
      ]
    },
    {
      "cell_type": "code",
      "source": [
        "#84. Extract all the contiguous 3x3 blocks from a random 10x10 matrix (★★★)\n",
        "#(hint: stride_tricks.as_strided)\n",
        "Z = np.random.randint(0,5,(10,10))\n",
        "n = 3\n",
        "i = 1 + (Z.shape[0]-3)\n",
        "j = 1 + (Z.shape[1]-3)\n",
        "C = stride_tricks.as_strided(Z, shape=(i, j, n, n), strides=Z.strides + Z.strides)\n",
        "print(C)"
      ],
      "metadata": {
        "colab": {
          "base_uri": "https://localhost:8080/"
        },
        "id": "f-0d0BZj3Thx",
        "outputId": "2af5583f-5087-48fe-94db-1a13b0f4cb59"
      },
      "execution_count": null,
      "outputs": [
        {
          "output_type": "stream",
          "name": "stdout",
          "text": [
            "[[[[4 4 1]\n",
            "   [4 2 4]\n",
            "   [3 0 3]]\n",
            "\n",
            "  [[4 1 2]\n",
            "   [2 4 1]\n",
            "   [0 3 3]]\n",
            "\n",
            "  [[1 2 1]\n",
            "   [4 1 3]\n",
            "   [3 3 0]]\n",
            "\n",
            "  [[2 1 4]\n",
            "   [1 3 3]\n",
            "   [3 0 4]]\n",
            "\n",
            "  [[1 4 4]\n",
            "   [3 3 2]\n",
            "   [0 4 1]]\n",
            "\n",
            "  [[4 4 2]\n",
            "   [3 2 4]\n",
            "   [4 1 1]]\n",
            "\n",
            "  [[4 2 1]\n",
            "   [2 4 4]\n",
            "   [1 1 1]]\n",
            "\n",
            "  [[2 1 2]\n",
            "   [4 4 1]\n",
            "   [1 1 0]]]\n",
            "\n",
            "\n",
            " [[[4 2 4]\n",
            "   [3 0 3]\n",
            "   [4 4 3]]\n",
            "\n",
            "  [[2 4 1]\n",
            "   [0 3 3]\n",
            "   [4 3 4]]\n",
            "\n",
            "  [[4 1 3]\n",
            "   [3 3 0]\n",
            "   [3 4 3]]\n",
            "\n",
            "  [[1 3 3]\n",
            "   [3 0 4]\n",
            "   [4 3 4]]\n",
            "\n",
            "  [[3 3 2]\n",
            "   [0 4 1]\n",
            "   [3 4 4]]\n",
            "\n",
            "  [[3 2 4]\n",
            "   [4 1 1]\n",
            "   [4 4 0]]\n",
            "\n",
            "  [[2 4 4]\n",
            "   [1 1 1]\n",
            "   [4 0 1]]\n",
            "\n",
            "  [[4 4 1]\n",
            "   [1 1 0]\n",
            "   [0 1 0]]]\n",
            "\n",
            "\n",
            " [[[3 0 3]\n",
            "   [4 4 3]\n",
            "   [4 3 0]]\n",
            "\n",
            "  [[0 3 3]\n",
            "   [4 3 4]\n",
            "   [3 0 4]]\n",
            "\n",
            "  [[3 3 0]\n",
            "   [3 4 3]\n",
            "   [0 4 1]]\n",
            "\n",
            "  [[3 0 4]\n",
            "   [4 3 4]\n",
            "   [4 1 4]]\n",
            "\n",
            "  [[0 4 1]\n",
            "   [3 4 4]\n",
            "   [1 4 1]]\n",
            "\n",
            "  [[4 1 1]\n",
            "   [4 4 0]\n",
            "   [4 1 0]]\n",
            "\n",
            "  [[1 1 1]\n",
            "   [4 0 1]\n",
            "   [1 0 3]]\n",
            "\n",
            "  [[1 1 0]\n",
            "   [0 1 0]\n",
            "   [0 3 4]]]\n",
            "\n",
            "\n",
            " [[[4 4 3]\n",
            "   [4 3 0]\n",
            "   [3 4 1]]\n",
            "\n",
            "  [[4 3 4]\n",
            "   [3 0 4]\n",
            "   [4 1 0]]\n",
            "\n",
            "  [[3 4 3]\n",
            "   [0 4 1]\n",
            "   [1 0 2]]\n",
            "\n",
            "  [[4 3 4]\n",
            "   [4 1 4]\n",
            "   [0 2 3]]\n",
            "\n",
            "  [[3 4 4]\n",
            "   [1 4 1]\n",
            "   [2 3 2]]\n",
            "\n",
            "  [[4 4 0]\n",
            "   [4 1 0]\n",
            "   [3 2 2]]\n",
            "\n",
            "  [[4 0 1]\n",
            "   [1 0 3]\n",
            "   [2 2 0]]\n",
            "\n",
            "  [[0 1 0]\n",
            "   [0 3 4]\n",
            "   [2 0 0]]]\n",
            "\n",
            "\n",
            " [[[4 3 0]\n",
            "   [3 4 1]\n",
            "   [1 0 4]]\n",
            "\n",
            "  [[3 0 4]\n",
            "   [4 1 0]\n",
            "   [0 4 3]]\n",
            "\n",
            "  [[0 4 1]\n",
            "   [1 0 2]\n",
            "   [4 3 2]]\n",
            "\n",
            "  [[4 1 4]\n",
            "   [0 2 3]\n",
            "   [3 2 3]]\n",
            "\n",
            "  [[1 4 1]\n",
            "   [2 3 2]\n",
            "   [2 3 0]]\n",
            "\n",
            "  [[4 1 0]\n",
            "   [3 2 2]\n",
            "   [3 0 1]]\n",
            "\n",
            "  [[1 0 3]\n",
            "   [2 2 0]\n",
            "   [0 1 2]]\n",
            "\n",
            "  [[0 3 4]\n",
            "   [2 0 0]\n",
            "   [1 2 0]]]\n",
            "\n",
            "\n",
            " [[[3 4 1]\n",
            "   [1 0 4]\n",
            "   [2 1 0]]\n",
            "\n",
            "  [[4 1 0]\n",
            "   [0 4 3]\n",
            "   [1 0 2]]\n",
            "\n",
            "  [[1 0 2]\n",
            "   [4 3 2]\n",
            "   [0 2 3]]\n",
            "\n",
            "  [[0 2 3]\n",
            "   [3 2 3]\n",
            "   [2 3 1]]\n",
            "\n",
            "  [[2 3 2]\n",
            "   [2 3 0]\n",
            "   [3 1 3]]\n",
            "\n",
            "  [[3 2 2]\n",
            "   [3 0 1]\n",
            "   [1 3 1]]\n",
            "\n",
            "  [[2 2 0]\n",
            "   [0 1 2]\n",
            "   [3 1 0]]\n",
            "\n",
            "  [[2 0 0]\n",
            "   [1 2 0]\n",
            "   [1 0 1]]]\n",
            "\n",
            "\n",
            " [[[1 0 4]\n",
            "   [2 1 0]\n",
            "   [4 1 1]]\n",
            "\n",
            "  [[0 4 3]\n",
            "   [1 0 2]\n",
            "   [1 1 3]]\n",
            "\n",
            "  [[4 3 2]\n",
            "   [0 2 3]\n",
            "   [1 3 0]]\n",
            "\n",
            "  [[3 2 3]\n",
            "   [2 3 1]\n",
            "   [3 0 0]]\n",
            "\n",
            "  [[2 3 0]\n",
            "   [3 1 3]\n",
            "   [0 0 3]]\n",
            "\n",
            "  [[3 0 1]\n",
            "   [1 3 1]\n",
            "   [0 3 1]]\n",
            "\n",
            "  [[0 1 2]\n",
            "   [3 1 0]\n",
            "   [3 1 2]]\n",
            "\n",
            "  [[1 2 0]\n",
            "   [1 0 1]\n",
            "   [1 2 0]]]\n",
            "\n",
            "\n",
            " [[[2 1 0]\n",
            "   [4 1 1]\n",
            "   [0 2 0]]\n",
            "\n",
            "  [[1 0 2]\n",
            "   [1 1 3]\n",
            "   [2 0 4]]\n",
            "\n",
            "  [[0 2 3]\n",
            "   [1 3 0]\n",
            "   [0 4 0]]\n",
            "\n",
            "  [[2 3 1]\n",
            "   [3 0 0]\n",
            "   [4 0 2]]\n",
            "\n",
            "  [[3 1 3]\n",
            "   [0 0 3]\n",
            "   [0 2 4]]\n",
            "\n",
            "  [[1 3 1]\n",
            "   [0 3 1]\n",
            "   [2 4 4]]\n",
            "\n",
            "  [[3 1 0]\n",
            "   [3 1 2]\n",
            "   [4 4 4]]\n",
            "\n",
            "  [[1 0 1]\n",
            "   [1 2 0]\n",
            "   [4 4 3]]]]\n"
          ]
        }
      ]
    },
    {
      "cell_type": "code",
      "source": [
        "#85. Create a 2D array subclass such that Z[i,j] == Z[j,i] (★★★)\n",
        "#(hint: class method)\n",
        "class Symetric(np.ndarray):\n",
        "    def __setitem__(self, index, value):\n",
        "        i,j = index\n",
        "        super(Symetric, self).__setitem__((i,j), value)\n",
        "        super(Symetric, self).__setitem__((j,i), value)\n",
        "\n",
        "def symetric(Z):\n",
        "    return np.asarray(Z + Z.T - np.diag(Z.diagonal())).view(Symetric)\n",
        "\n",
        "S = symetric(np.random.randint(0,10,(5,5)))\n",
        "S[2,3] = 42\n",
        "print(S)"
      ],
      "metadata": {
        "colab": {
          "base_uri": "https://localhost:8080/"
        },
        "id": "VlXEmt5P3bmz",
        "outputId": "f96076ec-8a30-4f70-d262-242afcb2e783"
      },
      "execution_count": null,
      "outputs": [
        {
          "output_type": "stream",
          "name": "stdout",
          "text": [
            "[[ 2  8  0  6  1]\n",
            " [ 8  3  5  8 12]\n",
            " [ 0  5  5 42 10]\n",
            " [ 6  8 42  6 10]\n",
            " [ 1 12 10 10  3]]\n"
          ]
        }
      ]
    },
    {
      "cell_type": "code",
      "source": [
        "#86. Consider a set of p matrices wich shape (n,n) and a set of p vectors with shape (n,1). How to compute the sum of of the p matrix products at once? (result has shape (n,1)) (★★★)\n",
        "#(hint: np.tensordot)\n",
        "p, n = 10, 20\n",
        "M = np.ones((p,n,n))\n",
        "V = np.ones((p,n,1))\n",
        "S = np.tensordot(M, V, axes=[[0, 2], [0, 1]])\n",
        "print(S)"
      ],
      "metadata": {
        "colab": {
          "base_uri": "https://localhost:8080/"
        },
        "id": "jZ0G_nR83ibf",
        "outputId": "b2c5bc52-f604-4f53-d8b2-a5262c8fa3ed"
      },
      "execution_count": null,
      "outputs": [
        {
          "output_type": "stream",
          "name": "stdout",
          "text": [
            "[[200.]\n",
            " [200.]\n",
            " [200.]\n",
            " [200.]\n",
            " [200.]\n",
            " [200.]\n",
            " [200.]\n",
            " [200.]\n",
            " [200.]\n",
            " [200.]\n",
            " [200.]\n",
            " [200.]\n",
            " [200.]\n",
            " [200.]\n",
            " [200.]\n",
            " [200.]\n",
            " [200.]\n",
            " [200.]\n",
            " [200.]\n",
            " [200.]]\n"
          ]
        }
      ]
    },
    {
      "cell_type": "code",
      "source": [
        "#87. Consider a 16x16 array, how to get the block-sum (block size is 4x4)? (★★★)\n",
        "#(hint: np.add.reduceat)\n",
        "Z = np.ones((16,16))\n",
        "k = 4\n",
        "S = np.add.reduceat(np.add.reduceat(Z, np.arange(0, Z.shape[0], k), axis=0),\n",
        "                                       np.arange(0, Z.shape[1], k), axis=1)\n",
        "print(S)"
      ],
      "metadata": {
        "colab": {
          "base_uri": "https://localhost:8080/"
        },
        "id": "lq-H3kUeCrOG",
        "outputId": "e031dfd4-5ad6-403d-990d-457f120e707b"
      },
      "execution_count": null,
      "outputs": [
        {
          "output_type": "stream",
          "name": "stdout",
          "text": [
            "[[16. 16. 16. 16.]\n",
            " [16. 16. 16. 16.]\n",
            " [16. 16. 16. 16.]\n",
            " [16. 16. 16. 16.]]\n"
          ]
        }
      ]
    },
    {
      "cell_type": "code",
      "source": [
        "#88. How to implement the Game of Life using numpy arrays? (★★★)\n",
        "def iterate(Z):\n",
        "    # Count neighbours\n",
        "    N = (Z[0:-2,0:-2] + Z[0:-2,1:-1] + Z[0:-2,2:] +\n",
        "         Z[1:-1,0:-2]                + Z[1:-1,2:] +\n",
        "         Z[2:  ,0:-2] + Z[2:  ,1:-1] + Z[2:  ,2:])\n",
        "\n",
        "    # Apply rules\n",
        "    birth = (N==3) & (Z[1:-1,1:-1]==0)\n",
        "    survive = ((N==2) | (N==3)) & (Z[1:-1,1:-1]==1)\n",
        "    Z[...] = 0\n",
        "    Z[1:-1,1:-1][birth | survive] = 1\n",
        "    return Z\n",
        "\n",
        "Z = np.random.randint(0,2,(50,50))\n",
        "for i in range(100): Z = iterate(Z)\n",
        "print(Z)"
      ],
      "metadata": {
        "colab": {
          "base_uri": "https://localhost:8080/"
        },
        "id": "lzxFm7cUC1gs",
        "outputId": "1d20e6cb-1486-4935-c53f-2e52cb7171b7"
      },
      "execution_count": null,
      "outputs": [
        {
          "output_type": "stream",
          "name": "stdout",
          "text": [
            "[[0 0 0 0 0 0 0 0 0 0 0 0 0 0 0 0 0 0 0 0 0 0 0 0 0 0 0 0 0 0 0 0 0 0 0 0\n",
            "  0 0 0 0 0 0 0 0 0 0 0 0 0 0]\n",
            " [0 0 0 0 0 0 0 0 0 0 0 0 0 0 0 0 0 0 0 0 0 0 0 0 0 0 0 0 0 0 0 1 1 0 0 0\n",
            "  0 0 0 0 0 0 0 0 0 0 0 0 0 0]\n",
            " [0 0 0 0 0 0 0 0 0 0 0 0 0 0 0 0 0 0 0 0 0 1 1 1 0 0 0 0 0 0 0 1 1 0 0 0\n",
            "  0 0 0 0 0 0 0 0 0 0 0 0 0 0]\n",
            " [0 0 0 0 0 0 0 0 0 0 0 0 0 0 0 0 0 0 0 0 0 0 0 0 0 0 0 0 0 0 0 0 0 0 0 0\n",
            "  0 0 0 0 0 0 0 0 0 0 0 0 0 0]\n",
            " [0 0 0 0 0 0 0 0 0 0 0 0 0 0 0 0 0 0 0 1 0 0 0 0 0 1 0 0 0 0 0 0 0 0 0 0\n",
            "  0 0 0 0 0 0 0 0 0 0 0 0 0 0]\n",
            " [0 0 0 0 0 0 0 0 0 0 0 0 0 0 0 0 0 0 0 1 0 0 0 0 0 1 0 0 0 0 0 0 0 0 0 0\n",
            "  0 0 0 0 0 0 0 0 0 0 0 0 0 0]\n",
            " [0 0 0 0 0 0 0 0 0 0 0 0 0 0 0 0 0 0 0 1 0 0 0 0 0 1 0 0 0 0 0 0 0 0 0 0\n",
            "  0 0 0 0 0 0 0 0 0 1 1 0 0 0]\n",
            " [0 0 0 0 0 0 0 0 0 0 0 0 0 0 0 0 0 0 0 0 0 0 0 0 0 0 0 0 0 0 0 0 0 0 0 0\n",
            "  0 0 0 0 0 0 0 0 0 1 1 0 0 0]\n",
            " [0 0 0 0 0 0 0 0 0 0 0 0 0 0 0 0 0 0 0 0 0 1 1 1 0 0 0 0 0 0 0 0 0 0 0 0\n",
            "  0 0 0 0 0 0 0 0 0 0 0 0 0 0]\n",
            " [0 0 0 0 0 0 0 0 0 0 0 0 0 0 0 0 0 0 0 0 0 0 0 0 0 0 0 0 0 0 0 0 0 0 0 0\n",
            "  0 0 0 0 0 0 0 0 0 0 0 0 0 0]\n",
            " [0 0 0 0 0 0 0 0 0 0 0 0 0 0 0 0 0 0 0 0 0 0 0 0 0 0 0 0 0 0 0 0 0 0 0 0\n",
            "  0 0 0 0 0 0 0 0 0 0 0 0 0 0]\n",
            " [0 0 0 0 0 0 0 0 0 0 0 0 0 0 0 0 0 0 0 0 0 0 0 0 0 0 0 0 0 0 0 0 0 0 0 0\n",
            "  0 0 0 0 0 0 0 0 0 0 0 0 0 0]\n",
            " [0 0 0 0 0 0 0 0 0 0 0 0 0 0 0 0 0 0 0 0 0 0 0 0 0 0 0 0 0 0 0 0 0 0 0 0\n",
            "  0 0 0 0 0 0 0 0 1 0 0 0 0 0]\n",
            " [0 0 0 0 0 0 0 0 0 0 0 0 0 0 0 0 0 0 0 0 0 0 0 0 0 0 0 0 0 0 1 1 1 0 0 0\n",
            "  0 0 0 0 0 0 0 1 0 1 0 0 0 0]\n",
            " [0 0 0 0 0 0 0 0 0 0 0 0 0 0 0 0 0 0 0 0 0 0 0 0 0 0 0 0 0 0 0 0 0 0 0 0\n",
            "  0 0 0 0 0 0 0 1 0 1 0 0 0 0]\n",
            " [0 0 0 0 0 0 0 0 0 0 0 0 0 0 0 0 0 1 1 0 0 0 0 0 0 0 0 0 0 0 0 0 0 0 0 0\n",
            "  0 0 0 0 0 0 0 0 1 0 0 0 0 0]\n",
            " [0 0 0 1 0 0 0 0 0 0 0 0 0 0 0 0 1 0 0 1 0 0 0 0 0 0 0 0 0 0 0 0 0 0 0 0\n",
            "  0 0 0 0 0 0 0 0 0 0 0 0 0 0]\n",
            " [0 0 1 0 1 0 0 0 0 0 0 0 0 0 0 0 0 1 1 0 0 0 0 0 0 0 0 0 0 0 0 0 0 0 0 0\n",
            "  0 0 0 0 0 0 0 0 0 0 0 0 0 0]\n",
            " [0 0 1 0 1 0 0 0 0 0 0 0 0 0 0 0 0 0 0 0 0 0 0 0 0 0 0 0 0 0 0 0 0 0 0 0\n",
            "  0 0 0 0 0 0 0 0 0 0 0 0 0 0]\n",
            " [0 0 0 1 0 0 0 0 0 0 0 0 0 0 0 0 0 0 0 0 0 0 0 0 0 0 0 0 0 0 0 0 0 0 0 0\n",
            "  0 0 0 0 0 0 0 0 0 0 0 0 0 0]\n",
            " [0 0 0 0 0 0 0 0 0 0 0 0 0 0 0 0 0 0 0 0 0 0 0 0 0 0 0 0 0 0 0 0 0 0 0 0\n",
            "  0 0 0 0 0 0 0 0 0 0 0 0 0 0]\n",
            " [0 0 0 0 0 0 0 0 0 0 0 0 0 0 0 0 0 0 0 0 0 1 1 0 0 0 0 0 0 0 0 0 0 0 0 0\n",
            "  0 1 1 0 0 0 0 0 0 0 0 0 0 0]\n",
            " [0 0 0 0 0 0 0 0 0 0 0 0 0 0 0 0 0 0 0 0 1 0 0 1 0 0 0 0 0 0 0 0 0 0 0 0\n",
            "  1 0 0 1 0 0 0 0 0 0 0 0 0 0]\n",
            " [0 0 0 0 1 0 0 0 0 1 1 0 0 0 0 0 0 0 0 0 1 0 1 0 0 0 0 0 0 0 0 0 0 0 0 0\n",
            "  0 0 0 1 0 0 0 0 0 0 0 0 0 0]\n",
            " [0 0 0 1 0 1 1 0 0 1 1 0 0 0 0 0 0 0 0 0 0 1 0 0 0 0 0 0 0 0 0 0 0 0 0 0\n",
            "  0 0 0 1 0 0 0 0 0 0 0 0 0 0]\n",
            " [0 0 0 1 0 1 1 0 0 0 0 0 0 0 0 0 0 0 0 0 0 0 0 0 0 0 0 0 0 0 0 0 0 0 0 0\n",
            "  0 1 0 1 0 0 0 0 0 0 0 0 0 0]\n",
            " [0 0 1 1 0 0 1 1 0 0 0 0 0 0 0 0 0 0 0 0 0 0 0 0 0 0 0 0 0 0 0 0 0 0 0 0\n",
            "  0 1 0 1 0 0 0 0 0 0 0 0 0 0]\n",
            " [0 0 0 1 0 0 0 0 0 0 0 0 0 0 0 0 0 0 0 0 0 0 0 0 0 0 0 0 0 0 0 0 0 0 0 0\n",
            "  0 0 0 0 0 0 0 1 1 0 1 1 0 0]\n",
            " [0 0 0 0 0 0 1 0 0 0 0 0 0 0 0 0 0 0 0 0 0 0 0 0 0 0 0 0 0 0 0 0 0 0 0 0\n",
            "  0 0 0 1 0 0 0 1 0 0 0 1 0 0]\n",
            " [0 0 1 0 0 1 0 0 0 0 0 0 0 0 0 0 0 0 0 0 0 0 0 0 0 0 0 0 0 0 0 0 0 0 0 0\n",
            "  0 0 0 1 0 0 0 0 0 1 1 0 0 0]\n",
            " [0 1 0 0 0 0 0 0 0 0 0 0 0 0 0 0 0 0 0 0 0 0 0 0 0 0 0 0 0 0 0 0 0 0 0 0\n",
            "  1 1 0 0 0 0 1 0 0 0 0 0 0 0]\n",
            " [0 0 1 0 0 0 0 0 0 0 0 0 0 0 0 0 0 0 1 0 0 0 0 0 0 0 0 0 0 0 0 0 0 0 0 0\n",
            "  0 0 0 0 0 0 1 0 0 0 0 0 0 0]\n",
            " [0 0 0 0 0 0 0 0 0 0 0 0 0 0 0 0 0 1 0 1 0 0 0 0 0 0 1 0 0 0 1 1 0 0 0 0\n",
            "  0 0 0 0 0 0 0 0 0 0 0 0 0 0]\n",
            " [0 0 0 0 0 0 0 0 0 0 0 0 0 0 0 0 0 0 1 1 0 0 0 0 0 0 1 0 0 1 0 1 1 0 0 0\n",
            "  0 0 0 0 0 0 0 0 0 0 0 0 0 0]\n",
            " [0 0 0 0 0 0 0 0 0 0 0 0 0 0 0 0 0 0 0 0 0 0 0 0 1 1 0 0 0 0 0 1 0 0 0 0\n",
            "  0 0 0 0 0 0 0 0 0 0 0 0 0 0]\n",
            " [0 0 0 0 0 0 0 0 0 0 0 0 0 0 0 0 0 0 0 0 0 0 0 0 1 0 0 1 1 1 1 0 0 0 0 0\n",
            "  0 0 0 0 0 0 0 0 0 0 0 0 0 0]\n",
            " [0 0 0 0 0 0 0 0 0 0 0 0 0 0 0 0 0 0 0 0 0 0 0 0 1 0 0 0 0 0 1 0 0 0 0 0\n",
            "  0 0 0 0 0 0 0 0 0 0 0 0 0 0]\n",
            " [0 0 0 0 0 0 0 0 0 0 0 0 0 0 0 0 0 0 0 0 0 0 0 0 0 1 1 1 1 0 0 0 0 1 1 0\n",
            "  1 0 0 0 0 0 0 0 0 0 0 0 0 0]\n",
            " [0 0 0 0 0 0 0 0 0 0 0 0 0 0 0 0 0 0 0 0 0 0 0 0 0 0 0 1 0 0 0 1 1 0 1 0\n",
            "  0 1 0 0 0 0 0 0 0 0 0 0 0 0]\n",
            " [0 0 0 0 0 0 0 0 0 0 1 1 0 0 0 0 0 0 0 0 0 0 0 0 0 0 0 0 0 0 0 1 0 0 0 0\n",
            "  0 1 0 0 0 0 0 0 0 0 0 0 0 0]\n",
            " [0 0 0 0 0 0 0 0 0 0 1 1 0 0 0 0 0 0 0 0 0 0 0 0 0 0 0 0 0 0 0 0 0 1 0 1\n",
            "  0 0 1 1 0 0 0 0 0 0 0 0 0 0]\n",
            " [0 0 0 0 0 0 0 0 0 0 0 0 0 0 0 0 0 0 0 0 0 0 0 0 0 0 0 0 0 0 0 0 1 1 0 1\n",
            "  0 0 0 1 0 0 0 0 0 0 0 0 0 0]\n",
            " [0 0 0 0 0 0 0 0 0 0 0 0 0 0 0 0 0 0 0 0 0 0 0 0 0 0 0 0 0 0 0 0 0 1 0 1\n",
            "  0 1 0 1 0 0 0 0 0 0 0 0 0 0]\n",
            " [0 0 0 0 0 0 0 0 0 0 0 0 0 0 0 0 0 0 0 0 0 0 0 0 0 0 0 0 0 0 0 0 0 0 0 0\n",
            "  1 1 1 0 0 0 0 0 0 0 0 0 0 0]\n",
            " [0 0 0 0 0 0 0 0 0 0 0 0 0 0 0 0 0 0 0 0 0 0 0 0 0 0 0 0 0 0 0 0 0 0 0 0\n",
            "  0 0 0 0 0 0 0 0 0 0 0 0 0 0]\n",
            " [0 0 0 0 0 0 0 0 0 0 0 0 0 0 0 0 0 0 0 0 0 0 1 1 0 0 0 0 0 0 0 0 0 0 0 0\n",
            "  0 0 0 0 0 0 1 1 0 0 0 0 0 0]\n",
            " [0 0 0 0 0 0 0 0 0 0 0 0 0 0 0 0 0 0 0 0 0 0 1 1 0 0 0 0 0 0 0 0 0 0 0 0\n",
            "  0 0 0 0 0 1 0 0 1 0 0 0 0 0]\n",
            " [0 1 1 0 0 0 0 0 0 0 1 1 0 0 0 0 0 0 0 0 0 0 0 0 0 0 0 0 0 0 0 0 0 0 0 0\n",
            "  0 0 0 0 0 0 1 1 0 0 0 0 0 0]\n",
            " [0 1 1 0 0 0 0 0 0 0 1 1 0 0 0 0 0 0 0 0 0 0 0 0 0 0 0 0 0 0 0 0 0 0 0 0\n",
            "  0 0 0 0 0 0 0 0 0 0 0 0 0 0]\n",
            " [0 0 0 0 0 0 0 0 0 0 0 0 0 0 0 0 0 0 0 0 0 0 0 0 0 0 0 0 0 0 0 0 0 0 0 0\n",
            "  0 0 0 0 0 0 0 0 0 0 0 0 0 0]]\n"
          ]
        }
      ]
    },
    {
      "cell_type": "code",
      "source": [
        "#89. How to get the n largest values of an array (★★★)\n",
        "Z = np.arange(10000)\n",
        "np.random.shuffle(Z)\n",
        "n = 5\n",
        "print (Z[np.argsort(Z)[-n:]])"
      ],
      "metadata": {
        "colab": {
          "base_uri": "https://localhost:8080/"
        },
        "id": "svsOd3cdC7hP",
        "outputId": "8e8465ba-0e45-425e-c674-82cad516562b"
      },
      "execution_count": null,
      "outputs": [
        {
          "output_type": "stream",
          "name": "stdout",
          "text": [
            "[9995 9996 9997 9998 9999]\n"
          ]
        }
      ]
    },
    {
      "cell_type": "code",
      "source": [
        "#90. Given an arbitrary number of vectors, build the cartesian product (every combinations of every item) (★★★)\n",
        "#(hint: np.indices)\n",
        "def cartesian(arrays):\n",
        "    arrays = [np.asarray(a) for a in arrays]\n",
        "    shape = (len(x) for x in arrays)\n",
        "\n",
        "    ix = np.indices(shape, dtype=int)\n",
        "    ix = ix.reshape(len(arrays), -1).T\n",
        "\n",
        "    for n, arr in enumerate(arrays):\n",
        "        ix[:, n] = arrays[n][ix[:, n]]\n",
        "\n",
        "    return ix\n",
        "\n",
        "print (cartesian(([1, 2, 3], [4, 5], [6, 7])))"
      ],
      "metadata": {
        "colab": {
          "base_uri": "https://localhost:8080/"
        },
        "id": "7KYOmMybDEBR",
        "outputId": "1ef58bb5-b9b7-4295-d0c3-c0a9e91289b2"
      },
      "execution_count": null,
      "outputs": [
        {
          "output_type": "stream",
          "name": "stdout",
          "text": [
            "[[1 4 6]\n",
            " [1 4 7]\n",
            " [1 5 6]\n",
            " [1 5 7]\n",
            " [2 4 6]\n",
            " [2 4 7]\n",
            " [2 5 6]\n",
            " [2 5 7]\n",
            " [3 4 6]\n",
            " [3 4 7]\n",
            " [3 5 6]\n",
            " [3 5 7]]\n"
          ]
        }
      ]
    },
    {
      "cell_type": "code",
      "source": [
        "#91. How to create a record array from a regular array? (★★★)\n",
        "#(hint: np.core.records.fromarrays)\n",
        "Z = np.array([(\"Hello\", 2.5, 3),\n",
        "              (\"World\", 3.6, 2)])\n",
        "R = np.core.records.fromarrays(Z.T,\n",
        "                               names='col1, col2, col3',\n",
        "                               formats = 'S8, f8, i8')\n",
        "print(R)\n"
      ],
      "metadata": {
        "colab": {
          "base_uri": "https://localhost:8080/"
        },
        "id": "6_1jrNXQDV8I",
        "outputId": "5b908ed8-cd1f-40cf-8ea7-b8dfeb969bb0"
      },
      "execution_count": null,
      "outputs": [
        {
          "output_type": "stream",
          "name": "stdout",
          "text": [
            "[(b'Hello', 2.5, 3) (b'World', 3.6, 2)]\n"
          ]
        }
      ]
    },
    {
      "cell_type": "code",
      "source": [
        "#92. Consider a large vector Z, compute Z to the power of 3 using 3 different methods (★★★)\n",
        "#(hint: np.power, *, np.einsum)\n",
        "x = np.random.rand(int(5e7))\n",
        "\n",
        "%timeit np.power(x,3)\n",
        "%timeit x*x*x\n",
        "%timeit np.einsum('i,i,i->i',x,x,x)"
      ],
      "metadata": {
        "colab": {
          "base_uri": "https://localhost:8080/"
        },
        "id": "yxhBdmnWDe2O",
        "outputId": "0d71bc30-64a2-4d28-e4d9-0fb0c595f55f"
      },
      "execution_count": null,
      "outputs": [
        {
          "output_type": "stream",
          "name": "stdout",
          "text": [
            "1 loop, best of 5: 3.8 s per loop\n",
            "1 loop, best of 5: 208 ms per loop\n",
            "10 loops, best of 5: 171 ms per loop\n"
          ]
        }
      ]
    },
    {
      "cell_type": "code",
      "source": [
        "#93. Consider two arrays A and B of shape (8,3) and (2,2). How to find rows of A that contain elements of each row of B regardless of the order of the elements in B? (★★★)\n",
        "#(hint: np.where)\n",
        "A = np.random.randint(0,5,(8,3))\n",
        "B = np.random.randint(0,5,(2,2))\n",
        "\n",
        "C = (A[..., np.newaxis, np.newaxis] == B)\n",
        "rows = np.where(C.any((3,1)).all(1))[0]\n",
        "print(rows)"
      ],
      "metadata": {
        "colab": {
          "base_uri": "https://localhost:8080/"
        },
        "id": "nhnQeJ8RDlKM",
        "outputId": "ad2fbd80-0c47-4417-b4ec-536099ba1c4d"
      },
      "execution_count": null,
      "outputs": [
        {
          "output_type": "stream",
          "name": "stdout",
          "text": [
            "[1 2 4 5 6]\n"
          ]
        }
      ]
    },
    {
      "cell_type": "code",
      "source": [
        "#94. Considering a 10x3 matrix, extract rows with unequal values (e.g. [2,2,3]) (★★★)\n",
        "Z = np.random.randint(0,5,(10,3))\n",
        "print(Z)\n",
        "# solution for arrays of all dtypes (including string arrays and record arrays)\n",
        "E = np.all(Z[:,1:] == Z[:,:-1], axis=1)\n",
        "U = Z[~E]\n",
        "print(U)\n",
        "# soluiton for numerical arrays only, will work for any number of columns in Z\n",
        "U = Z[Z.max(axis=1) != Z.min(axis=1),:]\n",
        "print(U)"
      ],
      "metadata": {
        "colab": {
          "base_uri": "https://localhost:8080/"
        },
        "id": "KelHelmBDsI1",
        "outputId": "d5c827c2-7a0e-4cb8-bc10-86abc4115756"
      },
      "execution_count": null,
      "outputs": [
        {
          "output_type": "stream",
          "name": "stdout",
          "text": [
            "[[0 1 1]\n",
            " [3 4 0]\n",
            " [0 2 0]\n",
            " [0 4 2]\n",
            " [2 0 1]\n",
            " [2 1 0]\n",
            " [0 1 3]\n",
            " [3 4 4]\n",
            " [3 3 4]\n",
            " [2 0 0]]\n",
            "[[0 1 1]\n",
            " [3 4 0]\n",
            " [0 2 0]\n",
            " [0 4 2]\n",
            " [2 0 1]\n",
            " [2 1 0]\n",
            " [0 1 3]\n",
            " [3 4 4]\n",
            " [3 3 4]\n",
            " [2 0 0]]\n",
            "[[0 1 1]\n",
            " [3 4 0]\n",
            " [0 2 0]\n",
            " [0 4 2]\n",
            " [2 0 1]\n",
            " [2 1 0]\n",
            " [0 1 3]\n",
            " [3 4 4]\n",
            " [3 3 4]\n",
            " [2 0 0]]\n"
          ]
        }
      ]
    },
    {
      "cell_type": "code",
      "source": [
        "#95. Convert a vector of ints into a matrix binary representation (★★★)\n",
        "#(hint: np.unpackbits)\n",
        "I = np.array([0, 1, 2, 3, 15, 16, 32, 64, 128])\n",
        "B = ((I.reshape(-1,1) & (2**np.arange(8))) != 0).astype(int)\n",
        "print(B[:,::-1])"
      ],
      "metadata": {
        "colab": {
          "base_uri": "https://localhost:8080/"
        },
        "id": "a1JlAdqID7PC",
        "outputId": "3ee4ed57-948b-4397-8114-564e74c57ce8"
      },
      "execution_count": null,
      "outputs": [
        {
          "output_type": "stream",
          "name": "stdout",
          "text": [
            "[[0 0 0 0 0 0 0 0]\n",
            " [0 0 0 0 0 0 0 1]\n",
            " [0 0 0 0 0 0 1 0]\n",
            " [0 0 0 0 0 0 1 1]\n",
            " [0 0 0 0 1 1 1 1]\n",
            " [0 0 0 1 0 0 0 0]\n",
            " [0 0 1 0 0 0 0 0]\n",
            " [0 1 0 0 0 0 0 0]\n",
            " [1 0 0 0 0 0 0 0]]\n"
          ]
        }
      ]
    },
    {
      "cell_type": "code",
      "source": [
        "#96. Given a two dimensional array, how to extract unique rows? (★★★)\n",
        "#(hint: np.ascontiguousarray)\n",
        "Z = np.random.randint(0,2,(6,3))\n",
        "T = np.ascontiguousarray(Z).view(np.dtype((np.void, Z.dtype.itemsize * Z.shape[1])))\n",
        "_, idx = np.unique(T, return_index=True)\n",
        "uZ = Z[idx]\n",
        "print(uZ)"
      ],
      "metadata": {
        "colab": {
          "base_uri": "https://localhost:8080/"
        },
        "id": "OFh5wT9nEB9g",
        "outputId": "f7faf27a-30ee-4a92-9f9c-611491875ec4"
      },
      "execution_count": null,
      "outputs": [
        {
          "output_type": "stream",
          "name": "stdout",
          "text": [
            "[[0 0 1]\n",
            " [0 1 1]\n",
            " [1 0 0]\n",
            " [1 0 1]\n",
            " [1 1 1]]\n"
          ]
        }
      ]
    },
    {
      "cell_type": "code",
      "source": [
        "#97. Considering 2 vectors A & B, write the einsum equivalent of inner, outer, sum, and mul function (★★★)\n",
        "#(hint: np.einsum)\n",
        "A = np.random.uniform(0,1,10)\n",
        "B = np.random.uniform(0,1,10)\n",
        "\n",
        "np.einsum('i->', A)       # np.sum(A)\n",
        "np.einsum('i,i->i', A, B) # A * B\n",
        "np.einsum('i,i', A, B)    # np.inner(A, B)\n",
        "np.einsum('i,j->ij', A, B)    # np.outer(A, B)"
      ],
      "metadata": {
        "colab": {
          "base_uri": "https://localhost:8080/"
        },
        "id": "waC6zofRELFH",
        "outputId": "8707e978-d745-475e-a5a6-9f8634298701"
      },
      "execution_count": null,
      "outputs": [
        {
          "output_type": "execute_result",
          "data": {
            "text/plain": [
              "array([[0.3984606 , 0.2469821 , 0.76720478, 0.31418639, 0.26076923,\n",
              "        0.71748373, 0.2494535 , 0.19225892, 0.25013847, 0.30053638],\n",
              "       [0.21487271, 0.13318686, 0.41372064, 0.16942725, 0.14062166,\n",
              "        0.38690821, 0.13451958, 0.10367699, 0.13488895, 0.16206639],\n",
              "       [0.01284474, 0.00796169, 0.02473155, 0.01012809, 0.00840614,\n",
              "        0.02312875, 0.00804136, 0.00619764, 0.00806344, 0.00968807],\n",
              "       [0.30859328, 0.19127868, 0.59417227, 0.24332596, 0.20195631,\n",
              "        0.55566512, 0.19319269, 0.14889756, 0.19372317, 0.23275453],\n",
              "       [0.49168049, 0.30476359, 0.94669242, 0.38769032, 0.32177622,\n",
              "        0.88533912, 0.30781317, 0.23723791, 0.30865839, 0.3708469 ],\n",
              "       [0.1171826 , 0.07263455, 0.22562595, 0.09239854, 0.07668918,\n",
              "        0.21100357, 0.07336136, 0.0565411 , 0.0735628 , 0.08838423],\n",
              "       [0.48764218, 0.30226048, 0.93891697, 0.38450612, 0.31913338,\n",
              "        0.87806759, 0.30528502, 0.23528941, 0.30612329, 0.36780103],\n",
              "       [0.00303111, 0.00187881, 0.00583617, 0.00239003, 0.00198368,\n",
              "        0.00545794, 0.00189761, 0.00146252, 0.00190282, 0.0022862 ],\n",
              "       [0.49990026, 0.30985854, 0.96251894, 0.39417161, 0.32715558,\n",
              "        0.90013996, 0.3129591 , 0.24120399, 0.31381845, 0.37704661],\n",
              "       [0.22384269, 0.13874682, 0.43099164, 0.17650008, 0.14649199,\n",
              "        0.40305991, 0.14013517, 0.10800505, 0.14051996, 0.16883193]])"
            ]
          },
          "metadata": {},
          "execution_count": 73
        }
      ]
    },
    {
      "cell_type": "code",
      "source": [
        "#98. Considering a path described by two vectors (X,Y), how to sample it using equidistant samples (★★★)?\n",
        "#(hint: np.cumsum, np.interp)\n",
        "phi = np.arange(0, 10*np.pi, 0.1)\n",
        "a = 1\n",
        "x = a*phi*np.cos(phi)\n",
        "y = a*phi*np.sin(phi)\n",
        "\n",
        "dr = (np.diff(x)**2 + np.diff(y)**2)**.5 # segment lengths\n",
        "r = np.zeros_like(x)\n",
        "r[1:] = np.cumsum(dr)                # integrate path\n",
        "r_int = np.linspace(0, r.max(), 200) # regular spaced path\n",
        "x_int = np.interp(r_int, r, x)       # integrate path\n",
        "y_int = np.interp(r_int, r, y)"
      ],
      "metadata": {
        "id": "HUbD0QxNEUPS"
      },
      "execution_count": null,
      "outputs": []
    },
    {
      "cell_type": "code",
      "source": [
        "#99. Given an integer n and a 2D array X, select from X the rows which can be interpreted as draws from a multinomial distribution with n degrees, i.e., the rows which only contain integers and which sum to n. (★★★)\n",
        "#(hint: np.logical_and.reduce, np.mod)\n",
        "X = np.asarray([[1.0, 0.0, 3.0, 8.0],\n",
        "                [2.0, 0.0, 1.0, 1.0],\n",
        "                [1.5, 2.5, 1.0, 0.0]])\n",
        "n = 4\n",
        "M = np.logical_and.reduce(np.mod(X, 1) == 0, axis=-1)\n",
        "M &= (X.sum(axis=-1) == n)\n",
        "print(X[M])"
      ],
      "metadata": {
        "colab": {
          "base_uri": "https://localhost:8080/"
        },
        "id": "8RRpQiMvEgdr",
        "outputId": "5e60b9b2-fe20-4050-9c40-6143e2e3167f"
      },
      "execution_count": null,
      "outputs": [
        {
          "output_type": "stream",
          "name": "stdout",
          "text": [
            "[[2. 0. 1. 1.]]\n"
          ]
        }
      ]
    },
    {
      "cell_type": "code",
      "source": [
        "#100. Compute bootstrapped 95% confidence intervals for the mean of a 1D array X (i.e., resample the elements of an array with replacement N times, compute the mean of each sample, and then compute percentiles over the means). (★★★)\n",
        "#(hint: np.percentile)\n",
        "X = np.random.randn(100) # random 1D array\n",
        "N = 1000 # number of bootstrap samples\n",
        "idx = np.random.randint(0, X.size, (N, X.size))\n",
        "means = X[idx].mean(axis=1)\n",
        "confint = np.percentile(means, [2.5, 97.5])\n",
        "print(confint)"
      ],
      "metadata": {
        "colab": {
          "base_uri": "https://localhost:8080/"
        },
        "id": "dDiYrCA_HHip",
        "outputId": "99ef9479-64c9-4c93-a6f7-d6128b4358e5"
      },
      "execution_count": null,
      "outputs": [
        {
          "output_type": "stream",
          "name": "stdout",
          "text": [
            "[-0.15711975  0.19534903]\n"
          ]
        }
      ]
    }
  ]
}